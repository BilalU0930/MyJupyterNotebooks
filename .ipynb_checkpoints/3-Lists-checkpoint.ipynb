{
 "cells": [
  {
   "cell_type": "code",
   "execution_count": 246,
   "id": "c3bded9a-36cc-481f-95f1-e6a2ce92c3ef",
   "metadata": {},
   "outputs": [],
   "source": [
    "myString = \"hello python\""
   ]
  },
  {
   "cell_type": "code",
   "execution_count": 247,
   "id": "3a9ece32-b9b5-4a38-a61f-aa8ac00ff4b9",
   "metadata": {},
   "outputs": [
    {
     "data": {
      "text/plain": [
       "['hello', 'python']"
      ]
     },
     "execution_count": 247,
     "metadata": {},
     "output_type": "execute_result"
    }
   ],
   "source": [
    "myString.split()"
   ]
  },
  {
   "cell_type": "code",
   "execution_count": 248,
   "id": "e51fb62d-b803-4db1-9aee-911f3380a220",
   "metadata": {},
   "outputs": [
    {
     "data": {
      "text/plain": [
       "list"
      ]
     },
     "execution_count": 248,
     "metadata": {},
     "output_type": "execute_result"
    }
   ],
   "source": [
    "type(myString.split())"
   ]
  },
  {
   "cell_type": "code",
   "execution_count": 249,
   "id": "8a8a2f9d-e867-4c15-9930-5b90bfbe3d66",
   "metadata": {},
   "outputs": [],
   "source": [
    "# list"
   ]
  },
  {
   "cell_type": "code",
   "execution_count": 250,
   "id": "777f0d67-33d4-4061-b887-9a55800e029b",
   "metadata": {},
   "outputs": [
    {
     "data": {
      "text/plain": [
       "'hello python'"
      ]
     },
     "execution_count": 250,
     "metadata": {},
     "output_type": "execute_result"
    }
   ],
   "source": [
    "myString"
   ]
  },
  {
   "cell_type": "code",
   "execution_count": 251,
   "id": "fbe637f8-c5c6-47bc-8ec4-b89ea7105571",
   "metadata": {},
   "outputs": [
    {
     "data": {
      "text/plain": [
       "'h'"
      ]
     },
     "execution_count": 251,
     "metadata": {},
     "output_type": "execute_result"
    }
   ],
   "source": [
    "myString[0]"
   ]
  },
  {
   "cell_type": "code",
   "execution_count": 252,
   "id": "2206e6ec-30a3-49b5-a6a9-069d8047a243",
   "metadata": {},
   "outputs": [],
   "source": [
    "#myString[0] = \"a\""
   ]
  },
  {
   "cell_type": "code",
   "execution_count": 253,
   "id": "2f9ad4f4-f348-4d5e-babc-b6af5f4fdb6b",
   "metadata": {},
   "outputs": [],
   "source": [
    "#immutable - immutability"
   ]
  },
  {
   "cell_type": "code",
   "execution_count": 254,
   "id": "d0f2dd46-195d-4434-911f-6ea4a413a04b",
   "metadata": {},
   "outputs": [],
   "source": [
    "myString = \"bilal\""
   ]
  },
  {
   "cell_type": "markdown",
   "id": "6ba6b9b3-dbeb-4ebd-89a0-38b76b346188",
   "metadata": {},
   "source": [
    "# List"
   ]
  },
  {
   "cell_type": "code",
   "execution_count": 255,
   "id": "e2333413-e94a-433c-9f3b-ece6254776a2",
   "metadata": {},
   "outputs": [],
   "source": [
    "myList = [10, 20, 30]"
   ]
  },
  {
   "cell_type": "code",
   "execution_count": 256,
   "id": "26197e5e-940f-43c3-9e54-61782e09bcc0",
   "metadata": {},
   "outputs": [
    {
     "data": {
      "text/plain": [
       "list"
      ]
     },
     "execution_count": 256,
     "metadata": {},
     "output_type": "execute_result"
    }
   ],
   "source": [
    "type(myList)"
   ]
  },
  {
   "cell_type": "code",
   "execution_count": 257,
   "id": "5d938a88-6387-4a6e-92bb-2e356f791431",
   "metadata": {},
   "outputs": [],
   "source": [
    "x = 10\n",
    "y = 20\n",
    "z = 30"
   ]
  },
  {
   "cell_type": "code",
   "execution_count": 258,
   "id": "a1bd4fe5-019d-45b2-a13d-4bb76a111b19",
   "metadata": {},
   "outputs": [],
   "source": [
    "myList = [x, y, z]"
   ]
  },
  {
   "cell_type": "code",
   "execution_count": 259,
   "id": "5878b54a-2117-4e40-aad7-30b650c160b6",
   "metadata": {},
   "outputs": [
    {
     "data": {
      "text/plain": [
       "[10, 20, 30]"
      ]
     },
     "execution_count": 259,
     "metadata": {},
     "output_type": "execute_result"
    }
   ],
   "source": [
    "myList"
   ]
  },
  {
   "cell_type": "code",
   "execution_count": 260,
   "id": "8870f97b-ca7b-4cb6-9da7-c4e55f1cf1e6",
   "metadata": {},
   "outputs": [],
   "source": [
    "myList = [10, 20, 30, 40, 50, 60, 70]"
   ]
  },
  {
   "cell_type": "code",
   "execution_count": 261,
   "id": "08d2d592-452e-4a34-9b43-bea6157c2cf2",
   "metadata": {},
   "outputs": [
    {
     "data": {
      "text/plain": [
       "list"
      ]
     },
     "execution_count": 261,
     "metadata": {},
     "output_type": "execute_result"
    }
   ],
   "source": [
    "type(myList)"
   ]
  },
  {
   "cell_type": "code",
   "execution_count": 262,
   "id": "fb9c960d-0c11-4dce-be5a-bc8207b6fb2a",
   "metadata": {},
   "outputs": [
    {
     "data": {
      "text/plain": [
       "int"
      ]
     },
     "execution_count": 262,
     "metadata": {},
     "output_type": "execute_result"
    }
   ],
   "source": [
    "type(myList[0])"
   ]
  },
  {
   "cell_type": "code",
   "execution_count": 263,
   "id": "ecd356ee-b3e0-4e46-b0f2-cdcef47f5fb4",
   "metadata": {},
   "outputs": [
    {
     "data": {
      "text/plain": [
       "10"
      ]
     },
     "execution_count": 263,
     "metadata": {},
     "output_type": "execute_result"
    }
   ],
   "source": [
    "myList[0]"
   ]
  },
  {
   "cell_type": "code",
   "execution_count": 264,
   "id": "2bf75260-b01a-4bd8-ba6f-9848eeb4dfc6",
   "metadata": {},
   "outputs": [],
   "source": [
    "myList[0] = 100"
   ]
  },
  {
   "cell_type": "code",
   "execution_count": 265,
   "id": "b6289154-134a-424e-bccf-caf3267d217c",
   "metadata": {},
   "outputs": [],
   "source": [
    "#mutable, mutability"
   ]
  },
  {
   "cell_type": "code",
   "execution_count": 266,
   "id": "11eb636e-0468-4973-84e8-65d31d686804",
   "metadata": {},
   "outputs": [
    {
     "data": {
      "text/plain": [
       "[100, 20, 30, 40, 50, 60, 70]"
      ]
     },
     "execution_count": 266,
     "metadata": {},
     "output_type": "execute_result"
    }
   ],
   "source": [
    "myList"
   ]
  },
  {
   "cell_type": "code",
   "execution_count": 267,
   "id": "25735b9a-7a8d-4a66-be82-6b2e7514d8c7",
   "metadata": {},
   "outputs": [
    {
     "data": {
      "text/plain": [
       "7"
      ]
     },
     "execution_count": 267,
     "metadata": {},
     "output_type": "execute_result"
    }
   ],
   "source": [
    "len(myList)"
   ]
  },
  {
   "cell_type": "code",
   "execution_count": 268,
   "id": "137d95bf-101e-4d8f-8a31-93a8a7c059b6",
   "metadata": {},
   "outputs": [
    {
     "data": {
      "text/plain": [
       "70"
      ]
     },
     "execution_count": 268,
     "metadata": {},
     "output_type": "execute_result"
    }
   ],
   "source": [
    "myList[len(myList) -1]"
   ]
  },
  {
   "cell_type": "code",
   "execution_count": 269,
   "id": "d47c844f-a4b8-48c2-80e2-523e11d1089e",
   "metadata": {},
   "outputs": [
    {
     "data": {
      "text/plain": [
       "70"
      ]
     },
     "execution_count": 269,
     "metadata": {},
     "output_type": "execute_result"
    }
   ],
   "source": [
    "myList[-1]"
   ]
  },
  {
   "cell_type": "code",
   "execution_count": 270,
   "id": "7032d845-5b64-4318-8108-8aa462d014c1",
   "metadata": {},
   "outputs": [
    {
     "data": {
      "text/plain": [
       "60"
      ]
     },
     "execution_count": 270,
     "metadata": {},
     "output_type": "execute_result"
    }
   ],
   "source": [
    "myList[-2]"
   ]
  },
  {
   "cell_type": "code",
   "execution_count": 271,
   "id": "4b69f1c4-ce64-4ae2-8926-5aef1cd53507",
   "metadata": {},
   "outputs": [
    {
     "data": {
      "text/plain": [
       "[100, 20, 30, 40, 50, 60, 70]"
      ]
     },
     "execution_count": 271,
     "metadata": {},
     "output_type": "execute_result"
    }
   ],
   "source": [
    "myList"
   ]
  },
  {
   "cell_type": "code",
   "execution_count": 272,
   "id": "251b3167-eb79-48c3-9c76-e5cb54340284",
   "metadata": {},
   "outputs": [],
   "source": [
    "myList.append(80)"
   ]
  },
  {
   "cell_type": "code",
   "execution_count": 273,
   "id": "7b091b9a-2af0-405b-b32b-aebd48a69601",
   "metadata": {},
   "outputs": [
    {
     "data": {
      "text/plain": [
       "[100, 20, 30, 40, 50, 60, 70, 80]"
      ]
     },
     "execution_count": 273,
     "metadata": {},
     "output_type": "execute_result"
    }
   ],
   "source": [
    "myList"
   ]
  },
  {
   "cell_type": "code",
   "execution_count": 274,
   "id": "14d779a9-862e-4f37-908f-21b17f33f193",
   "metadata": {},
   "outputs": [],
   "source": [
    "myList.append(1)"
   ]
  },
  {
   "cell_type": "code",
   "execution_count": 275,
   "id": "2e5945c6-f61b-4d4e-8059-1d65116ec761",
   "metadata": {},
   "outputs": [
    {
     "data": {
      "text/plain": [
       "[100, 20, 30, 40, 50, 60, 70, 80, 1]"
      ]
     },
     "execution_count": 275,
     "metadata": {},
     "output_type": "execute_result"
    }
   ],
   "source": [
    "myList"
   ]
  },
  {
   "cell_type": "code",
   "execution_count": 276,
   "id": "fe65c831-5e34-4393-9f29-69116edb0af1",
   "metadata": {},
   "outputs": [
    {
     "data": {
      "text/plain": [
       "9"
      ]
     },
     "execution_count": 276,
     "metadata": {},
     "output_type": "execute_result"
    }
   ],
   "source": [
    "len(myList)"
   ]
  },
  {
   "cell_type": "code",
   "execution_count": 277,
   "id": "144b0541-e6d0-40e6-849e-ff5eebc1f3fb",
   "metadata": {},
   "outputs": [
    {
     "data": {
      "text/plain": [
       "1"
      ]
     },
     "execution_count": 277,
     "metadata": {},
     "output_type": "execute_result"
    }
   ],
   "source": [
    "myList.count(20)"
   ]
  },
  {
   "cell_type": "code",
   "execution_count": 278,
   "id": "894e0b26-d5e0-4c05-aeef-df9bf948cb19",
   "metadata": {},
   "outputs": [
    {
     "data": {
      "text/plain": [
       "0"
      ]
     },
     "execution_count": 278,
     "metadata": {},
     "output_type": "execute_result"
    }
   ],
   "source": [
    "myList.count(25)"
   ]
  },
  {
   "cell_type": "code",
   "execution_count": 279,
   "id": "b14b8d59-5e92-4e37-9e1c-0d91e0ea8940",
   "metadata": {},
   "outputs": [
    {
     "data": {
      "text/plain": [
       "3"
      ]
     },
     "execution_count": 279,
     "metadata": {},
     "output_type": "execute_result"
    }
   ],
   "source": [
    "myList.index(40)"
   ]
  },
  {
   "cell_type": "code",
   "execution_count": 280,
   "id": "d8323e96-c188-4031-8ded-44f1c15bb109",
   "metadata": {},
   "outputs": [
    {
     "name": "stdout",
     "output_type": "stream",
     "text": [
      "Help on built-in function insert:\n",
      "\n",
      "insert(index, object, /) method of builtins.list instance\n",
      "    Insert object before index.\n",
      "\n"
     ]
    }
   ],
   "source": [
    "help(myList.insert)"
   ]
  },
  {
   "cell_type": "code",
   "execution_count": 281,
   "id": "a67cfd57-eb4b-4170-88ae-fac14903e619",
   "metadata": {},
   "outputs": [
    {
     "data": {
      "text/plain": [
       "[100, 20, 30, 40, 50, 60, 70, 80, 1]"
      ]
     },
     "execution_count": 281,
     "metadata": {},
     "output_type": "execute_result"
    }
   ],
   "source": [
    "myList"
   ]
  },
  {
   "cell_type": "code",
   "execution_count": 282,
   "id": "87e643eb-6bb6-47da-b1a0-9ef98d054af1",
   "metadata": {},
   "outputs": [],
   "source": [
    "myList.insert(2,35)"
   ]
  },
  {
   "cell_type": "code",
   "execution_count": 283,
   "id": "795fa3ae-db56-49bb-94bf-927c4cc0feff",
   "metadata": {},
   "outputs": [
    {
     "data": {
      "text/plain": [
       "[100, 20, 35, 30, 40, 50, 60, 70, 80, 1]"
      ]
     },
     "execution_count": 283,
     "metadata": {},
     "output_type": "execute_result"
    }
   ],
   "source": [
    "myList"
   ]
  },
  {
   "cell_type": "code",
   "execution_count": 284,
   "id": "f2404a66-04c5-4419-a4e7-dfaf119475ea",
   "metadata": {},
   "outputs": [
    {
     "data": {
      "text/plain": [
       "1"
      ]
     },
     "execution_count": 284,
     "metadata": {},
     "output_type": "execute_result"
    }
   ],
   "source": [
    "myList.pop()"
   ]
  },
  {
   "cell_type": "code",
   "execution_count": 285,
   "id": "919b2e27-0775-4ebf-bde8-0f3eafc1de61",
   "metadata": {},
   "outputs": [
    {
     "data": {
      "text/plain": [
       "[100, 20, 35, 30, 40, 50, 60, 70, 80]"
      ]
     },
     "execution_count": 285,
     "metadata": {},
     "output_type": "execute_result"
    }
   ],
   "source": [
    "myList"
   ]
  },
  {
   "cell_type": "code",
   "execution_count": 286,
   "id": "adc7f7b2-e1b5-4a01-abc5-6f2d534fe5de",
   "metadata": {},
   "outputs": [],
   "source": [
    "myList.remove(40)"
   ]
  },
  {
   "cell_type": "code",
   "execution_count": 287,
   "id": "0f9b8b12-8b9f-4dba-807d-faee0bdab43d",
   "metadata": {},
   "outputs": [
    {
     "data": {
      "text/plain": [
       "[100, 20, 35, 30, 50, 60, 70, 80]"
      ]
     },
     "execution_count": 287,
     "metadata": {},
     "output_type": "execute_result"
    }
   ],
   "source": [
    "myList"
   ]
  },
  {
   "cell_type": "code",
   "execution_count": 288,
   "id": "c320f617-bd96-4cd1-8bd6-abafe9287fd7",
   "metadata": {},
   "outputs": [],
   "source": [
    "myList.reverse()"
   ]
  },
  {
   "cell_type": "code",
   "execution_count": 289,
   "id": "72df1585-1790-459e-a9e2-49f316afe3e2",
   "metadata": {},
   "outputs": [
    {
     "data": {
      "text/plain": [
       "[80, 70, 60, 50, 30, 35, 20, 100]"
      ]
     },
     "execution_count": 289,
     "metadata": {},
     "output_type": "execute_result"
    }
   ],
   "source": [
    "myList"
   ]
  },
  {
   "cell_type": "code",
   "execution_count": 290,
   "id": "a3bb518e-66cd-47e4-800b-6d643707d040",
   "metadata": {},
   "outputs": [],
   "source": [
    "myList.sort()"
   ]
  },
  {
   "cell_type": "code",
   "execution_count": 291,
   "id": "0b0cd04f-f709-4f69-a454-50bf3e72b05c",
   "metadata": {},
   "outputs": [
    {
     "data": {
      "text/plain": [
       "[20, 30, 35, 50, 60, 70, 80, 100]"
      ]
     },
     "execution_count": 291,
     "metadata": {},
     "output_type": "execute_result"
    }
   ],
   "source": [
    "myList"
   ]
  },
  {
   "cell_type": "code",
   "execution_count": 292,
   "id": "1bc63760-6a0c-4626-9c48-aaa5870ee46c",
   "metadata": {},
   "outputs": [
    {
     "name": "stdin",
     "output_type": "stream",
     "text": [
      "enter x:  10\n"
     ]
    }
   ],
   "source": [
    "x = input(\"enter x: \")"
   ]
  },
  {
   "cell_type": "code",
   "execution_count": 293,
   "id": "06d501f2-c098-47d0-9597-0eb02b266105",
   "metadata": {},
   "outputs": [
    {
     "data": {
      "text/plain": [
       "'10'"
      ]
     },
     "execution_count": 293,
     "metadata": {},
     "output_type": "execute_result"
    }
   ],
   "source": [
    "x"
   ]
  },
  {
   "cell_type": "code",
   "execution_count": 294,
   "id": "66a2c0ed-f365-4937-99c7-65173e766eea",
   "metadata": {},
   "outputs": [
    {
     "data": {
      "text/plain": [
       "str"
      ]
     },
     "execution_count": 294,
     "metadata": {},
     "output_type": "execute_result"
    }
   ],
   "source": [
    "type(x)"
   ]
  },
  {
   "cell_type": "code",
   "execution_count": 295,
   "id": "51575d6f-0431-4469-bfd0-558b094081e8",
   "metadata": {},
   "outputs": [
    {
     "name": "stdin",
     "output_type": "stream",
     "text": [
      "enter y: 20\n"
     ]
    }
   ],
   "source": [
    "y = input(\"enter y:\")"
   ]
  },
  {
   "cell_type": "code",
   "execution_count": 296,
   "id": "f6c8250c-2c46-4908-b46a-19e21c4b118e",
   "metadata": {},
   "outputs": [
    {
     "data": {
      "text/plain": [
       "'20'"
      ]
     },
     "execution_count": 296,
     "metadata": {},
     "output_type": "execute_result"
    }
   ],
   "source": [
    "y"
   ]
  },
  {
   "cell_type": "code",
   "execution_count": 297,
   "id": "57fc0e59-a8f0-425c-9791-99adfd9c6338",
   "metadata": {},
   "outputs": [
    {
     "name": "stdin",
     "output_type": "stream",
     "text": [
      "enter z:  30\n"
     ]
    }
   ],
   "source": [
    "z = input(\"enter z: \")"
   ]
  },
  {
   "cell_type": "code",
   "execution_count": 298,
   "id": "73217718-08c3-44a7-abc7-4088b161dc88",
   "metadata": {},
   "outputs": [
    {
     "data": {
      "text/plain": [
       "'30'"
      ]
     },
     "execution_count": 298,
     "metadata": {},
     "output_type": "execute_result"
    }
   ],
   "source": [
    "z"
   ]
  },
  {
   "cell_type": "code",
   "execution_count": 299,
   "id": "c69a48d7-d074-4b6d-8e0f-2d8ffdc092cd",
   "metadata": {},
   "outputs": [],
   "source": [
    "inputList = []"
   ]
  },
  {
   "cell_type": "code",
   "execution_count": 300,
   "id": "d4a202f8-fea8-4dfc-8445-c6838f611471",
   "metadata": {},
   "outputs": [
    {
     "data": {
      "text/plain": [
       "list"
      ]
     },
     "execution_count": 300,
     "metadata": {},
     "output_type": "execute_result"
    }
   ],
   "source": [
    "type(inputList)"
   ]
  },
  {
   "cell_type": "code",
   "execution_count": 301,
   "id": "10b39a26-d582-4510-8ce1-0cf0bd6f5a75",
   "metadata": {},
   "outputs": [
    {
     "data": {
      "text/plain": [
       "0"
      ]
     },
     "execution_count": 301,
     "metadata": {},
     "output_type": "execute_result"
    }
   ],
   "source": [
    "len(inputList)"
   ]
  },
  {
   "cell_type": "code",
   "execution_count": 302,
   "id": "c009738b-eca7-4d8e-a6c3-6c796ea1572e",
   "metadata": {},
   "outputs": [],
   "source": [
    "inputList.append(x)\n",
    "inputList.append(y)\n",
    "inputList.append(z)"
   ]
  },
  {
   "cell_type": "code",
   "execution_count": 303,
   "id": "07302263-ded2-4201-ae4e-16f9bee899b8",
   "metadata": {},
   "outputs": [
    {
     "data": {
      "text/plain": [
       "['10', '20', '30']"
      ]
     },
     "execution_count": 303,
     "metadata": {},
     "output_type": "execute_result"
    }
   ],
   "source": [
    "inputList"
   ]
  },
  {
   "cell_type": "code",
   "execution_count": 304,
   "id": "9ec72867-28db-4db7-a8f7-174fabfac4c7",
   "metadata": {},
   "outputs": [
    {
     "data": {
      "text/plain": [
       "'20'"
      ]
     },
     "execution_count": 304,
     "metadata": {},
     "output_type": "execute_result"
    }
   ],
   "source": [
    "inputList[1]"
   ]
  },
  {
   "cell_type": "code",
   "execution_count": 305,
   "id": "758a96e3-2efc-47c6-abbc-66f5c14221de",
   "metadata": {},
   "outputs": [
    {
     "data": {
      "text/plain": [
       "'2020'"
      ]
     },
     "execution_count": 305,
     "metadata": {},
     "output_type": "execute_result"
    }
   ],
   "source": [
    "inputList[1] * 2"
   ]
  },
  {
   "cell_type": "code",
   "execution_count": 306,
   "id": "797350e8-06f5-431b-9eb6-cda377a1afa2",
   "metadata": {},
   "outputs": [
    {
     "data": {
      "text/plain": [
       "str"
      ]
     },
     "execution_count": 306,
     "metadata": {},
     "output_type": "execute_result"
    }
   ],
   "source": [
    "type(inputList[1])"
   ]
  },
  {
   "cell_type": "code",
   "execution_count": 307,
   "id": "1583121f-aba2-47bf-972d-4b486ff6a351",
   "metadata": {},
   "outputs": [],
   "source": [
    "myInteger = 50"
   ]
  },
  {
   "cell_type": "code",
   "execution_count": 308,
   "id": "f508367c-91a7-460b-85f5-ffc5299c58aa",
   "metadata": {},
   "outputs": [
    {
     "data": {
      "text/plain": [
       "'50'"
      ]
     },
     "execution_count": 308,
     "metadata": {},
     "output_type": "execute_result"
    }
   ],
   "source": [
    "str(myInteger)"
   ]
  },
  {
   "cell_type": "code",
   "execution_count": 309,
   "id": "d0fde8e9-71da-4822-929f-04ab75d7eb92",
   "metadata": {},
   "outputs": [],
   "source": [
    "myString = \"40\""
   ]
  },
  {
   "cell_type": "code",
   "execution_count": 310,
   "id": "d5495de4-74f5-47f8-a4eb-72dc28028660",
   "metadata": {},
   "outputs": [
    {
     "data": {
      "text/plain": [
       "40"
      ]
     },
     "execution_count": 310,
     "metadata": {},
     "output_type": "execute_result"
    }
   ],
   "source": [
    "int(myString)"
   ]
  },
  {
   "cell_type": "code",
   "execution_count": 311,
   "id": "e382c2d9-1639-4345-86ee-38797d4ba45d",
   "metadata": {},
   "outputs": [
    {
     "data": {
      "text/plain": [
       "40.0"
      ]
     },
     "execution_count": 311,
     "metadata": {},
     "output_type": "execute_result"
    }
   ],
   "source": [
    "float(myString)"
   ]
  },
  {
   "cell_type": "code",
   "execution_count": 312,
   "id": "4192c2fd-d3b5-4391-b0a7-b9babca862ee",
   "metadata": {},
   "outputs": [],
   "source": [
    "myString = \"python\""
   ]
  },
  {
   "cell_type": "code",
   "execution_count": 313,
   "id": "7a7f3916-e1ad-4aa4-9a41-b534489e0533",
   "metadata": {},
   "outputs": [],
   "source": [
    "#int(myString)"
   ]
  },
  {
   "cell_type": "code",
   "execution_count": 314,
   "id": "d0393fa7-57ff-4c05-89d0-e21c88c4d433",
   "metadata": {},
   "outputs": [],
   "source": [
    "#float(myString)"
   ]
  },
  {
   "cell_type": "code",
   "execution_count": 315,
   "id": "bc9d8d68-45c9-45e4-aa4a-9094bd448041",
   "metadata": {},
   "outputs": [
    {
     "data": {
      "text/plain": [
       "['10', '20', '30']"
      ]
     },
     "execution_count": 315,
     "metadata": {},
     "output_type": "execute_result"
    }
   ],
   "source": [
    "inputList"
   ]
  },
  {
   "cell_type": "code",
   "execution_count": 316,
   "id": "8138df14-fc27-4342-9dfa-9d3db5aceb2d",
   "metadata": {},
   "outputs": [
    {
     "data": {
      "text/plain": [
       "40"
      ]
     },
     "execution_count": 316,
     "metadata": {},
     "output_type": "execute_result"
    }
   ],
   "source": [
    "int(inputList[1]) * 2"
   ]
  },
  {
   "cell_type": "code",
   "execution_count": 317,
   "id": "2197d55f-cc38-4f43-a17a-6932f4096a7c",
   "metadata": {},
   "outputs": [
    {
     "data": {
      "text/plain": [
       "['10', '20', '30']"
      ]
     },
     "execution_count": 317,
     "metadata": {},
     "output_type": "execute_result"
    }
   ],
   "source": [
    "inputList"
   ]
  },
  {
   "cell_type": "code",
   "execution_count": 319,
   "id": "a2aedcbb-99ad-48fe-96ee-235deef62ebe",
   "metadata": {},
   "outputs": [
    {
     "data": {
      "text/plain": [
       "\"['10', '20', '30']\""
      ]
     },
     "execution_count": 319,
     "metadata": {},
     "output_type": "execute_result"
    }
   ],
   "source": [
    "str(inputList)"
   ]
  },
  {
   "cell_type": "code",
   "execution_count": 320,
   "id": "5f7a1453-b611-4014-b4f0-5a3adbff18bf",
   "metadata": {},
   "outputs": [
    {
     "data": {
      "text/plain": [
       "['10', '20', '30']"
      ]
     },
     "execution_count": 320,
     "metadata": {},
     "output_type": "execute_result"
    }
   ],
   "source": [
    "inputList"
   ]
  },
  {
   "cell_type": "code",
   "execution_count": 323,
   "id": "a80f1cfe-68d2-482b-8e6a-2e3ff2e3e55c",
   "metadata": {},
   "outputs": [],
   "source": [
    "nameList = [\"bilal\", \"burak\", \"a\", \"b\"]"
   ]
  },
  {
   "cell_type": "code",
   "execution_count": 324,
   "id": "cc4a4a10-3c49-4628-aec5-f73eb1c372f6",
   "metadata": {},
   "outputs": [
    {
     "data": {
      "text/plain": [
       "list"
      ]
     },
     "execution_count": 324,
     "metadata": {},
     "output_type": "execute_result"
    }
   ],
   "source": [
    "type(nameList)"
   ]
  },
  {
   "cell_type": "code",
   "execution_count": 325,
   "id": "9903d674-0d2b-48ee-985e-dfac5aa86be2",
   "metadata": {},
   "outputs": [],
   "source": [
    "floatList = [3.14, 2.5, 10.2, 100.123]"
   ]
  },
  {
   "cell_type": "code",
   "execution_count": 326,
   "id": "684213a5-980d-474c-a912-e08cbe2a2a00",
   "metadata": {},
   "outputs": [
    {
     "data": {
      "text/plain": [
       "list"
      ]
     },
     "execution_count": 326,
     "metadata": {},
     "output_type": "execute_result"
    }
   ],
   "source": [
    "type(floatList)"
   ]
  },
  {
   "cell_type": "code",
   "execution_count": 328,
   "id": "8031e904-431e-4bb1-948a-6ec4bfcb0de9",
   "metadata": {},
   "outputs": [],
   "source": [
    "mixedList = [\"bilal\", 100, 3.14]"
   ]
  },
  {
   "cell_type": "code",
   "execution_count": 329,
   "id": "6d4ae131-3405-416e-9e60-e029fcc0d534",
   "metadata": {},
   "outputs": [
    {
     "data": {
      "text/plain": [
       "list"
      ]
     },
     "execution_count": 329,
     "metadata": {},
     "output_type": "execute_result"
    }
   ],
   "source": [
    "type(mixedList)"
   ]
  },
  {
   "cell_type": "code",
   "execution_count": 330,
   "id": "153c8b7f-08f9-42f7-b8d1-d41103b8ac73",
   "metadata": {},
   "outputs": [],
   "source": [
    "list1 = [10, 20, 30]\n",
    "list2 = [40, 50, 60]"
   ]
  },
  {
   "cell_type": "code",
   "execution_count": 331,
   "id": "147243bf-a3bd-46f1-a98c-00e8c1b31273",
   "metadata": {},
   "outputs": [
    {
     "data": {
      "text/plain": [
       "[10, 20, 30, 40, 50, 60]"
      ]
     },
     "execution_count": 331,
     "metadata": {},
     "output_type": "execute_result"
    }
   ],
   "source": [
    "list1 + list2"
   ]
  },
  {
   "cell_type": "code",
   "execution_count": 332,
   "id": "169363c2-f86a-4f5b-80c8-df6e73e860af",
   "metadata": {},
   "outputs": [
    {
     "data": {
      "text/plain": [
       "[10, 20, 30, 10, 20, 30]"
      ]
     },
     "execution_count": 332,
     "metadata": {},
     "output_type": "execute_result"
    }
   ],
   "source": [
    "list1 * 2"
   ]
  },
  {
   "cell_type": "code",
   "execution_count": 334,
   "id": "f0585873-ac29-4a0c-851d-a57f0286e1c4",
   "metadata": {},
   "outputs": [],
   "source": [
    "#list1 / 5"
   ]
  },
  {
   "cell_type": "code",
   "execution_count": 335,
   "id": "9a6ec25a-40d1-4dd3-b093-dfd2061930f8",
   "metadata": {},
   "outputs": [
    {
     "data": {
      "text/plain": [
       "['bilal', 100, 3.14]"
      ]
     },
     "execution_count": 335,
     "metadata": {},
     "output_type": "execute_result"
    }
   ],
   "source": [
    "mixedList"
   ]
  },
  {
   "cell_type": "code",
   "execution_count": 337,
   "id": "a5a04c5e-a338-4ebc-b838-afb0a53867a8",
   "metadata": {},
   "outputs": [
    {
     "data": {
      "text/plain": [
       "int"
      ]
     },
     "execution_count": 337,
     "metadata": {},
     "output_type": "execute_result"
    }
   ],
   "source": [
    "type(mixedList[1])"
   ]
  },
  {
   "cell_type": "code",
   "execution_count": 338,
   "id": "94131867-6d9c-4a42-be56-86ebf038cc9b",
   "metadata": {},
   "outputs": [
    {
     "data": {
      "text/plain": [
       "str"
      ]
     },
     "execution_count": 338,
     "metadata": {},
     "output_type": "execute_result"
    }
   ],
   "source": [
    "type(mixedList[0])"
   ]
  },
  {
   "cell_type": "code",
   "execution_count": 340,
   "id": "e3b7f3b0-5922-4504-bc38-fe954018dad6",
   "metadata": {},
   "outputs": [
    {
     "data": {
      "text/plain": [
       "float"
      ]
     },
     "execution_count": 340,
     "metadata": {},
     "output_type": "execute_result"
    }
   ],
   "source": [
    "type(mixedList[2])"
   ]
  },
  {
   "cell_type": "code",
   "execution_count": 341,
   "id": "aa083381-9bfb-4906-b136-fc56e1bb98f6",
   "metadata": {},
   "outputs": [],
   "source": [
    "#nestedList"
   ]
  },
  {
   "cell_type": "code",
   "execution_count": 342,
   "id": "b0b4f530-5a49-47f0-9ed1-4642aad54614",
   "metadata": {},
   "outputs": [],
   "source": [
    "myNestedList = [10, 20, 3.14, \"bilal\", [1,2,3]]"
   ]
  },
  {
   "cell_type": "code",
   "execution_count": 343,
   "id": "fd3db088-4d63-4404-9b60-fd2c85b32714",
   "metadata": {},
   "outputs": [
    {
     "data": {
      "text/plain": [
       "10"
      ]
     },
     "execution_count": 343,
     "metadata": {},
     "output_type": "execute_result"
    }
   ],
   "source": [
    "myNestedList[0]"
   ]
  },
  {
   "cell_type": "code",
   "execution_count": 344,
   "id": "dae7f47a-eb0d-43a6-a056-1a56a4a5c0af",
   "metadata": {},
   "outputs": [
    {
     "data": {
      "text/plain": [
       "20"
      ]
     },
     "execution_count": 344,
     "metadata": {},
     "output_type": "execute_result"
    }
   ],
   "source": [
    "myNestedList[1]"
   ]
  },
  {
   "cell_type": "code",
   "execution_count": 345,
   "id": "0f5e26ab-b9de-49d5-b6ca-f480b6a41184",
   "metadata": {},
   "outputs": [
    {
     "data": {
      "text/plain": [
       "3.14"
      ]
     },
     "execution_count": 345,
     "metadata": {},
     "output_type": "execute_result"
    }
   ],
   "source": [
    "myNestedList[2]"
   ]
  },
  {
   "cell_type": "code",
   "execution_count": 346,
   "id": "d61f25ff-cd6e-4022-9c41-0685446b7549",
   "metadata": {},
   "outputs": [
    {
     "data": {
      "text/plain": [
       "'bilal'"
      ]
     },
     "execution_count": 346,
     "metadata": {},
     "output_type": "execute_result"
    }
   ],
   "source": [
    "myNestedList[3]"
   ]
  },
  {
   "cell_type": "code",
   "execution_count": 347,
   "id": "aacd4469-a76a-4897-b3c5-27931561a278",
   "metadata": {},
   "outputs": [
    {
     "data": {
      "text/plain": [
       "[1, 2, 3]"
      ]
     },
     "execution_count": 347,
     "metadata": {},
     "output_type": "execute_result"
    }
   ],
   "source": [
    "myNestedList[4]"
   ]
  },
  {
   "cell_type": "code",
   "execution_count": 350,
   "id": "809f49db-f945-4f1e-b04c-14955e49c33e",
   "metadata": {},
   "outputs": [],
   "source": [
    "x = myNestedList[0]"
   ]
  },
  {
   "cell_type": "code",
   "execution_count": 351,
   "id": "075349f9-0a43-4b85-b4e7-e465ec14c3ce",
   "metadata": {},
   "outputs": [
    {
     "data": {
      "text/plain": [
       "10"
      ]
     },
     "execution_count": 351,
     "metadata": {},
     "output_type": "execute_result"
    }
   ],
   "source": [
    "x"
   ]
  },
  {
   "cell_type": "code",
   "execution_count": 352,
   "id": "b1661118-41e9-498d-8c8a-4931fdc125b6",
   "metadata": {},
   "outputs": [],
   "source": [
    "smallList = myNestedList[4]"
   ]
  },
  {
   "cell_type": "code",
   "execution_count": 353,
   "id": "6a987d3b-dab7-4f36-83bb-69dd44a2fcf8",
   "metadata": {},
   "outputs": [
    {
     "data": {
      "text/plain": [
       "[1, 2, 3]"
      ]
     },
     "execution_count": 353,
     "metadata": {},
     "output_type": "execute_result"
    }
   ],
   "source": [
    "smallList"
   ]
  },
  {
   "cell_type": "code",
   "execution_count": 354,
   "id": "04dfa09b-4a9f-4837-9574-e6b54ca70a5f",
   "metadata": {},
   "outputs": [
    {
     "data": {
      "text/plain": [
       "list"
      ]
     },
     "execution_count": 354,
     "metadata": {},
     "output_type": "execute_result"
    }
   ],
   "source": [
    "type(smallList)"
   ]
  },
  {
   "cell_type": "code",
   "execution_count": 355,
   "id": "347069a3-72f9-4cd7-9b27-7b1a4b4c4c60",
   "metadata": {},
   "outputs": [
    {
     "data": {
      "text/plain": [
       "[10, 20, 3.14, 'bilal', [1, 2, 3]]"
      ]
     },
     "execution_count": 355,
     "metadata": {},
     "output_type": "execute_result"
    }
   ],
   "source": [
    "myNestedList"
   ]
  },
  {
   "cell_type": "code",
   "execution_count": 359,
   "id": "c8be0ee9-cb1c-45b4-a11a-58295a5b6618",
   "metadata": {},
   "outputs": [],
   "source": [
    "smallList = myNestedList[-1]"
   ]
  },
  {
   "cell_type": "code",
   "execution_count": 360,
   "id": "4db63370-6cc5-41fc-a774-787fa1f99458",
   "metadata": {},
   "outputs": [
    {
     "data": {
      "text/plain": [
       "[1, 2, 3]"
      ]
     },
     "execution_count": 360,
     "metadata": {},
     "output_type": "execute_result"
    }
   ],
   "source": [
    "smallList"
   ]
  },
  {
   "cell_type": "code",
   "execution_count": 361,
   "id": "c41f694e-6b70-4f4b-a986-564d4e3c9992",
   "metadata": {},
   "outputs": [
    {
     "data": {
      "text/plain": [
       "2"
      ]
     },
     "execution_count": 361,
     "metadata": {},
     "output_type": "execute_result"
    }
   ],
   "source": [
    "smallList[1]"
   ]
  },
  {
   "cell_type": "code",
   "execution_count": 363,
   "id": "7767e08a-3e08-435b-9db8-e4af74dd0566",
   "metadata": {},
   "outputs": [
    {
     "data": {
      "text/plain": [
       "3"
      ]
     },
     "execution_count": 363,
     "metadata": {},
     "output_type": "execute_result"
    }
   ],
   "source": [
    "myNestedList[4][2]"
   ]
  },
  {
   "cell_type": "code",
   "execution_count": null,
   "id": "a454ee96-c710-4026-93d0-aa6175e1c6ac",
   "metadata": {},
   "outputs": [],
   "source": [
    "lastList = [\"a\", \"b\", [\"c\", \"d\", \"e\"], \"f\"]"
   ]
  }
 ],
 "metadata": {
  "kernelspec": {
   "display_name": "Python 3 (ipykernel)",
   "language": "python",
   "name": "python3"
  },
  "language_info": {
   "codemirror_mode": {
    "name": "ipython",
    "version": 3
   },
   "file_extension": ".py",
   "mimetype": "text/x-python",
   "name": "python",
   "nbconvert_exporter": "python",
   "pygments_lexer": "ipython3",
   "version": "3.12.4"
  }
 },
 "nbformat": 4,
 "nbformat_minor": 5
}
