{
 "cells": [
  {
   "cell_type": "code",
   "execution_count": 1,
   "id": "86e3f6ca-0b54-45c2-90ed-7d76dc3e2753",
   "metadata": {},
   "outputs": [],
   "source": [
    "x = 5\n",
    "y  = 2"
   ]
  },
  {
   "cell_type": "code",
   "execution_count": 2,
   "id": "3244552d-f851-4706-9ce4-86da49cdcca0",
   "metadata": {},
   "outputs": [
    {
     "data": {
      "text/plain": [
       "True"
      ]
     },
     "execution_count": 2,
     "metadata": {},
     "output_type": "execute_result"
    }
   ],
   "source": [
    "x > y"
   ]
  },
  {
   "cell_type": "code",
   "execution_count": 3,
   "id": "7392e83f-ed1f-4de3-b3aa-253ddd3dec80",
   "metadata": {},
   "outputs": [
    {
     "data": {
      "text/plain": [
       "False"
      ]
     },
     "execution_count": 3,
     "metadata": {},
     "output_type": "execute_result"
    }
   ],
   "source": [
    "x < y"
   ]
  },
  {
   "cell_type": "code",
   "execution_count": 4,
   "id": "91649c39-2f6e-49e7-a0a4-107644a2f232",
   "metadata": {},
   "outputs": [
    {
     "data": {
      "text/plain": [
       "False"
      ]
     },
     "execution_count": 4,
     "metadata": {},
     "output_type": "execute_result"
    }
   ],
   "source": [
    "y > x"
   ]
  },
  {
   "cell_type": "code",
   "execution_count": 5,
   "id": "a7d5241d-5f9b-418f-9552-c9fdb22c9c43",
   "metadata": {},
   "outputs": [
    {
     "data": {
      "text/plain": [
       "True"
      ]
     },
     "execution_count": 5,
     "metadata": {},
     "output_type": "execute_result"
    }
   ],
   "source": [
    "y < x"
   ]
  },
  {
   "cell_type": "code",
   "execution_count": 6,
   "id": "d992c1ff-77ac-4c24-b119-de37829fdcb1",
   "metadata": {},
   "outputs": [],
   "source": [
    "y =  5"
   ]
  },
  {
   "cell_type": "code",
   "execution_count": 7,
   "id": "d203c863-c95b-4858-a793-d31adc5656bd",
   "metadata": {},
   "outputs": [
    {
     "data": {
      "text/plain": [
       "True"
      ]
     },
     "execution_count": 7,
     "metadata": {},
     "output_type": "execute_result"
    }
   ],
   "source": [
    "x >= y"
   ]
  },
  {
   "cell_type": "code",
   "execution_count": 8,
   "id": "b8f17acf-e4cc-4f80-8a99-ffbd751d88fc",
   "metadata": {},
   "outputs": [
    {
     "data": {
      "text/plain": [
       "5"
      ]
     },
     "execution_count": 8,
     "metadata": {},
     "output_type": "execute_result"
    }
   ],
   "source": [
    "x"
   ]
  },
  {
   "cell_type": "code",
   "execution_count": 9,
   "id": "39719a86-0457-4133-8e47-b0d2d0e7beeb",
   "metadata": {},
   "outputs": [
    {
     "data": {
      "text/plain": [
       "5"
      ]
     },
     "execution_count": 9,
     "metadata": {},
     "output_type": "execute_result"
    }
   ],
   "source": [
    "y"
   ]
  },
  {
   "cell_type": "code",
   "execution_count": 10,
   "id": "398db906-6251-46e9-a7b3-9e86ad6d0e27",
   "metadata": {},
   "outputs": [
    {
     "data": {
      "text/plain": [
       "True"
      ]
     },
     "execution_count": 10,
     "metadata": {},
     "output_type": "execute_result"
    }
   ],
   "source": [
    "x >= 5.0"
   ]
  },
  {
   "cell_type": "code",
   "execution_count": 11,
   "id": "ac9725f5-e582-4e6a-9ce1-6e2a747c92b8",
   "metadata": {},
   "outputs": [
    {
     "data": {
      "text/plain": [
       "False"
      ]
     },
     "execution_count": 11,
     "metadata": {},
     "output_type": "execute_result"
    }
   ],
   "source": [
    "x >= 5.001"
   ]
  },
  {
   "cell_type": "code",
   "execution_count": 12,
   "id": "43d4e6cb-20fe-482b-9527-b42bd7efb5f6",
   "metadata": {},
   "outputs": [],
   "source": [
    "x = 10"
   ]
  },
  {
   "cell_type": "code",
   "execution_count": 13,
   "id": "0785b732-ab8e-4d1b-a2a0-8fd7c4d421bf",
   "metadata": {},
   "outputs": [],
   "source": [
    "y = 8"
   ]
  },
  {
   "cell_type": "code",
   "execution_count": 14,
   "id": "1b1a469c-9f24-484a-8801-e123740fd82b",
   "metadata": {},
   "outputs": [
    {
     "data": {
      "text/plain": [
       "10"
      ]
     },
     "execution_count": 14,
     "metadata": {},
     "output_type": "execute_result"
    }
   ],
   "source": [
    "x"
   ]
  },
  {
   "cell_type": "code",
   "execution_count": 15,
   "id": "d245c2f5-2fba-44db-a489-e0f0256acc26",
   "metadata": {},
   "outputs": [
    {
     "data": {
      "text/plain": [
       "8"
      ]
     },
     "execution_count": 15,
     "metadata": {},
     "output_type": "execute_result"
    }
   ],
   "source": [
    "y"
   ]
  },
  {
   "cell_type": "code",
   "execution_count": 16,
   "id": "3c5df5ae-3776-4167-b5ae-f937eef0f965",
   "metadata": {},
   "outputs": [],
   "source": [
    "x = y"
   ]
  },
  {
   "cell_type": "code",
   "execution_count": 17,
   "id": "ffce5132-0c78-447c-8407-e763ddfc82d1",
   "metadata": {},
   "outputs": [
    {
     "data": {
      "text/plain": [
       "8"
      ]
     },
     "execution_count": 17,
     "metadata": {},
     "output_type": "execute_result"
    }
   ],
   "source": [
    "x"
   ]
  },
  {
   "cell_type": "code",
   "execution_count": 18,
   "id": "782c43d2-d13a-4791-8b2a-e1e692adb6d7",
   "metadata": {},
   "outputs": [
    {
     "data": {
      "text/plain": [
       "8"
      ]
     },
     "execution_count": 18,
     "metadata": {},
     "output_type": "execute_result"
    }
   ],
   "source": [
    "y"
   ]
  },
  {
   "cell_type": "code",
   "execution_count": 19,
   "id": "c7b49784-6abf-4606-98f8-a3f8108bba34",
   "metadata": {},
   "outputs": [],
   "source": [
    "x =  10"
   ]
  },
  {
   "cell_type": "code",
   "execution_count": 20,
   "id": "3f2f5f7b-6e74-4855-acb0-9f5c3eefc805",
   "metadata": {},
   "outputs": [
    {
     "data": {
      "text/plain": [
       "8"
      ]
     },
     "execution_count": 20,
     "metadata": {},
     "output_type": "execute_result"
    }
   ],
   "source": [
    "y"
   ]
  },
  {
   "cell_type": "code",
   "execution_count": 21,
   "id": "f7fa6bae-7798-46dc-96a2-553d5953cfa4",
   "metadata": {},
   "outputs": [
    {
     "data": {
      "text/plain": [
       "False"
      ]
     },
     "execution_count": 21,
     "metadata": {},
     "output_type": "execute_result"
    }
   ],
   "source": [
    "x == y"
   ]
  },
  {
   "cell_type": "code",
   "execution_count": 22,
   "id": "e1bc24b3-d3fe-4e5d-9abc-9b1f6e760894",
   "metadata": {},
   "outputs": [
    {
     "data": {
      "text/plain": [
       "True"
      ]
     },
     "execution_count": 22,
     "metadata": {},
     "output_type": "execute_result"
    }
   ],
   "source": [
    "x != y"
   ]
  },
  {
   "cell_type": "code",
   "execution_count": 23,
   "id": "8ccf79a0-1c95-404f-8050-5d71bada5288",
   "metadata": {},
   "outputs": [
    {
     "data": {
      "text/plain": [
       "True"
      ]
     },
     "execution_count": 23,
     "metadata": {},
     "output_type": "execute_result"
    }
   ],
   "source": [
    "2 > 1 and 3 >  2"
   ]
  },
  {
   "cell_type": "code",
   "execution_count": 24,
   "id": "7cfbb37c-3906-4b31-87fc-35e5d4a764de",
   "metadata": {},
   "outputs": [
    {
     "data": {
      "text/plain": [
       "False"
      ]
     },
     "execution_count": 24,
     "metadata": {},
     "output_type": "execute_result"
    }
   ],
   "source": [
    "2 > 1 and 3 < 2"
   ]
  },
  {
   "cell_type": "code",
   "execution_count": 25,
   "id": "66b3f10d-ada3-4466-8b53-859a96a8ee6d",
   "metadata": {},
   "outputs": [
    {
     "data": {
      "text/plain": [
       "True"
      ]
     },
     "execution_count": 25,
     "metadata": {},
     "output_type": "execute_result"
    }
   ],
   "source": [
    "True and True"
   ]
  },
  {
   "cell_type": "code",
   "execution_count": 26,
   "id": "8a303a13-3460-456a-b3f3-edc8755bc21b",
   "metadata": {},
   "outputs": [
    {
     "data": {
      "text/plain": [
       "False"
      ]
     },
     "execution_count": 26,
     "metadata": {},
     "output_type": "execute_result"
    }
   ],
   "source": [
    "True and False"
   ]
  },
  {
   "cell_type": "code",
   "execution_count": 27,
   "id": "7597d584-8a3c-4bee-b64c-e46238c29d8b",
   "metadata": {},
   "outputs": [
    {
     "data": {
      "text/plain": [
       "False"
      ]
     },
     "execution_count": 27,
     "metadata": {},
     "output_type": "execute_result"
    }
   ],
   "source": [
    "False and False"
   ]
  },
  {
   "cell_type": "code",
   "execution_count": 28,
   "id": "1ffeb95a-55f0-4a06-848d-00aa8ced8679",
   "metadata": {},
   "outputs": [
    {
     "data": {
      "text/plain": [
       "True"
      ]
     },
     "execution_count": 28,
     "metadata": {},
     "output_type": "execute_result"
    }
   ],
   "source": [
    "2 > 1 or 3 < 2"
   ]
  },
  {
   "cell_type": "code",
   "execution_count": 29,
   "id": "d527bc26-31e4-49dd-8fd1-55197569a83d",
   "metadata": {},
   "outputs": [
    {
     "data": {
      "text/plain": [
       "False"
      ]
     },
     "execution_count": 29,
     "metadata": {},
     "output_type": "execute_result"
    }
   ],
   "source": [
    "1 > 2 or 3 < 2"
   ]
  },
  {
   "cell_type": "code",
   "execution_count": 30,
   "id": "9ae62f20-29e1-48c1-a2d3-023161f0ef0f",
   "metadata": {},
   "outputs": [
    {
     "data": {
      "text/plain": [
       "False"
      ]
     },
     "execution_count": 30,
     "metadata": {},
     "output_type": "execute_result"
    }
   ],
   "source": [
    "not 1 == 1"
   ]
  },
  {
   "cell_type": "code",
   "execution_count": 31,
   "id": "5fc5ec74-1e49-4a6e-a104-313483b2f2db",
   "metadata": {},
   "outputs": [
    {
     "data": {
      "text/plain": [
       "True"
      ]
     },
     "execution_count": 31,
     "metadata": {},
     "output_type": "execute_result"
    }
   ],
   "source": [
    "10 in  [10,20,30]"
   ]
  },
  {
   "cell_type": "code",
   "execution_count": 32,
   "id": "eff4dbb7-a772-4b91-9782-337eaac48030",
   "metadata": {},
   "outputs": [
    {
     "data": {
      "text/plain": [
       "True"
      ]
     },
     "execution_count": 32,
     "metadata": {},
     "output_type": "execute_result"
    }
   ],
   "source": [
    "5 not in [10,20,30]"
   ]
  },
  {
   "cell_type": "code",
   "execution_count": 33,
   "id": "e538ec82-f5ce-4ce5-803e-e81fbde2cbb9",
   "metadata": {},
   "outputs": [
    {
     "data": {
      "text/plain": [
       "False"
      ]
     },
     "execution_count": 33,
     "metadata": {},
     "output_type": "execute_result"
    }
   ],
   "source": [
    "5 in [10,20,30]"
   ]
  },
  {
   "cell_type": "code",
   "execution_count": 34,
   "id": "4c74f579-2187-4351-95d7-b79872f9b948",
   "metadata": {},
   "outputs": [
    {
     "data": {
      "text/plain": [
       "True"
      ]
     },
     "execution_count": 34,
     "metadata": {},
     "output_type": "execute_result"
    }
   ],
   "source": [
    "10 in {10,20,30}"
   ]
  },
  {
   "cell_type": "code",
   "execution_count": 37,
   "id": "a8d173ad-e97b-4699-add2-70ea1c424af6",
   "metadata": {},
   "outputs": [],
   "source": [
    "my_dictionary = {\"a\":10, \"b\":20, \"c\":30}"
   ]
  },
  {
   "cell_type": "code",
   "execution_count": 39,
   "id": "4eb74084-6544-471a-867d-099d4df39deb",
   "metadata": {},
   "outputs": [
    {
     "data": {
      "text/plain": [
       "True"
      ]
     },
     "execution_count": 39,
     "metadata": {},
     "output_type": "execute_result"
    }
   ],
   "source": [
    "10 in my_dictionary.values()"
   ]
  },
  {
   "cell_type": "code",
   "execution_count": 40,
   "id": "a6a2c166-6b8a-4c6d-9718-a2c7b943fb5b",
   "metadata": {},
   "outputs": [
    {
     "data": {
      "text/plain": [
       "True"
      ]
     },
     "execution_count": 40,
     "metadata": {},
     "output_type": "execute_result"
    }
   ],
   "source": [
    "\"b\" in my_dictionary.keys()"
   ]
  },
  {
   "cell_type": "code",
   "execution_count": 41,
   "id": "b43fece3-7ee6-4025-aede-bb598a535e52",
   "metadata": {},
   "outputs": [
    {
     "data": {
      "text/plain": [
       "True"
      ]
     },
     "execution_count": 41,
     "metadata": {},
     "output_type": "execute_result"
    }
   ],
   "source": [
    "10 in (10,20,30)"
   ]
  },
  {
   "cell_type": "code",
   "execution_count": 55,
   "id": "e4d29a49-c480-47a4-8ca4-fe323699e46f",
   "metadata": {},
   "outputs": [],
   "source": [
    "my_superhero = \"Aquaman\""
   ]
  },
  {
   "cell_type": "code",
   "execution_count": 56,
   "id": "029ea4dc-61d1-4ee7-b410-4bddaaf8d848",
   "metadata": {},
   "outputs": [
    {
     "data": {
      "text/plain": [
       "False"
      ]
     },
     "execution_count": 56,
     "metadata": {},
     "output_type": "execute_result"
    }
   ],
   "source": [
    "my_superhero == \"Batman\""
   ]
  },
  {
   "cell_type": "code",
   "execution_count": 57,
   "id": "c82f3110-0ee6-4f47-98a8-bd5c19f1fa74",
   "metadata": {},
   "outputs": [
    {
     "data": {
      "text/plain": [
       "False"
      ]
     },
     "execution_count": 57,
     "metadata": {},
     "output_type": "execute_result"
    }
   ],
   "source": [
    "my_superhero == \"Superman\""
   ]
  },
  {
   "cell_type": "code",
   "execution_count": 58,
   "id": "8782ea47-e0fd-43e5-8b44-01a2b366016d",
   "metadata": {},
   "outputs": [
    {
     "name": "stdout",
     "output_type": "stream",
     "text": [
      "hello python\n"
     ]
    }
   ],
   "source": [
    "if my_superhero == \"Batman\":\n",
    "    #indentation\n",
    "    print(\"batman\")\n",
    "    print(\"bilal uygur\")\n",
    "##########---------##########\n",
    "print(\"hello python\")"
   ]
  },
  {
   "cell_type": "code",
   "execution_count": 60,
   "id": "ddde7b55-09c6-459a-bc59-10ddfad084ce",
   "metadata": {},
   "outputs": [],
   "source": [
    "if 3 > 4:\n",
    "    print(\"hello world\")\n",
    "    print(\"bilal\")"
   ]
  },
  {
   "cell_type": "code",
   "execution_count": 70,
   "id": "5beb4222-2983-40f7-922c-d15b10d72090",
   "metadata": {},
   "outputs": [
    {
     "name": "stdin",
     "output_type": "stream",
     "text": [
      "enter superhero:  Wonder Woman\n"
     ]
    }
   ],
   "source": [
    "my_superhero =  input(\"enter superhero: \")"
   ]
  },
  {
   "cell_type": "code",
   "execution_count": 74,
   "id": "423e730c-f1d5-43a4-8125-1e18e75d1e63",
   "metadata": {},
   "outputs": [
    {
     "name": "stdout",
     "output_type": "stream",
     "text": [
      ":(\n"
     ]
    }
   ],
   "source": [
    "if my_superhero == \"Superman\":\n",
    "    print(\"superman\")\n",
    "elif my_superhero == \"Batman\":\n",
    "    print(\"batman\")\n",
    "elif my_superhero == \"Aquaman\":\n",
    "    print(\"aquaman\")\n",
    "elif my_superhero == \"Ironman\":\n",
    "    print(\"ironman\")\n",
    "else:\n",
    "    print(\":(\")"
   ]
  },
  {
   "cell_type": "code",
   "execution_count": 86,
   "id": "7113768b-2dd4-41f7-81ef-0d3217374869",
   "metadata": {},
   "outputs": [],
   "source": [
    "my_age = 100"
   ]
  },
  {
   "cell_type": "code",
   "execution_count": 87,
   "id": "1001856b-92d6-4d2f-a3f1-5820e332cf8f",
   "metadata": {},
   "outputs": [
    {
     "name": "stdout",
     "output_type": "stream",
     "text": [
      "age > 40\n"
     ]
    }
   ],
   "source": [
    "if my_age <= 18:\n",
    "    print(\"age <= 18\")\n",
    "elif my_age > 18 and my_age <= 30:\n",
    "    print(\"18 - age 30\")\n",
    "elif my_age > 30 and my_age <= 40:\n",
    "    print(\"30 - age - 40\")\n",
    "else:\n",
    "    print(\"age > 40\")"
   ]
  },
  {
   "cell_type": "code",
   "execution_count": 92,
   "id": "19639f00-44c7-43ce-8db3-10b0c5e069c7",
   "metadata": {},
   "outputs": [
    {
     "name": "stdin",
     "output_type": "stream",
     "text": [
      "enter superhero:  Batman\n"
     ]
    }
   ],
   "source": [
    "my_superhero =  input(\"enter superhero: \")"
   ]
  },
  {
   "cell_type": "code",
   "execution_count": 93,
   "id": "ae2870c2-6234-4c76-8bcd-48fac5c3842b",
   "metadata": {},
   "outputs": [],
   "source": [
    "my_superhero_list = [\"Spider Man\", \"Iron Man\", \"Thor\", \"Black Widow\"]"
   ]
  },
  {
   "cell_type": "code",
   "execution_count": 94,
   "id": "2c26b2cd-6611-4884-8f99-2eb2ebe702f9",
   "metadata": {},
   "outputs": [
    {
     "name": "stdout",
     "output_type": "stream",
     "text": [
      ":(\n"
     ]
    }
   ],
   "source": [
    "if my_superhero in my_superhero_list:\n",
    "    print(\":)\")\n",
    "else:\n",
    "    print(\":(\")"
   ]
  },
  {
   "cell_type": "code",
   "execution_count": null,
   "id": "dcdc9d70-3a90-4308-83ea-3f8054c56576",
   "metadata": {},
   "outputs": [],
   "source": []
  }
 ],
 "metadata": {
  "kernelspec": {
   "display_name": "Python 3 (ipykernel)",
   "language": "python",
   "name": "python3"
  },
  "language_info": {
   "codemirror_mode": {
    "name": "ipython",
    "version": 3
   },
   "file_extension": ".py",
   "mimetype": "text/x-python",
   "name": "python",
   "nbconvert_exporter": "python",
   "pygments_lexer": "ipython3",
   "version": "3.12.4"
  }
 },
 "nbformat": 4,
 "nbformat_minor": 5
}
