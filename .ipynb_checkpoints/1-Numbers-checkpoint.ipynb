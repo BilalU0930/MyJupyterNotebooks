{
 "cells": [
  {
   "cell_type": "code",
   "execution_count": 1,
   "id": "12ac8d7c-feb4-4edd-af84-65f2510bf812",
   "metadata": {},
   "outputs": [
    {
     "data": {
      "text/plain": [
       "8"
      ]
     },
     "execution_count": 1,
     "metadata": {},
     "output_type": "execute_result"
    }
   ],
   "source": [
    "3 + 5"
   ]
  },
  {
   "cell_type": "code",
   "execution_count": 2,
   "id": "22dca9cd-c107-4a1d-a7eb-7a31b2d55d18",
   "metadata": {},
   "outputs": [
    {
     "data": {
      "text/plain": [
       "12"
      ]
     },
     "execution_count": 2,
     "metadata": {},
     "output_type": "execute_result"
    }
   ],
   "source": [
    "4 * 3"
   ]
  },
  {
   "cell_type": "code",
   "execution_count": 65,
   "id": "3e3bfbd5-5fd2-458e-a414-5e3570343227",
   "metadata": {},
   "outputs": [
    {
     "data": {
      "text/plain": [
       "225.0"
      ]
     },
     "execution_count": 65,
     "metadata": {},
     "output_type": "execute_result"
    }
   ],
   "source": [
    "900 / 4"
   ]
  },
  {
   "cell_type": "code",
   "execution_count": 66,
   "id": "7ad83cb4-b457-4392-a7ec-b774f3838399",
   "metadata": {},
   "outputs": [],
   "source": [
    "# numbers"
   ]
  },
  {
   "cell_type": "code",
   "execution_count": 4,
   "id": "f9485994-0313-46c6-82ac-0717905a04f2",
   "metadata": {},
   "outputs": [
    {
     "data": {
      "text/plain": [
       "128.57142857142858"
      ]
     },
     "execution_count": 4,
     "metadata": {},
     "output_type": "execute_result"
    }
   ],
   "source": [
    "900 / 7"
   ]
  },
  {
   "cell_type": "code",
   "execution_count": 5,
   "id": "5f15794b-1ec1-4aed-ae41-171ebc302e41",
   "metadata": {},
   "outputs": [
    {
     "data": {
      "text/plain": [
       "-90"
      ]
     },
     "execution_count": 5,
     "metadata": {},
     "output_type": "execute_result"
    }
   ],
   "source": [
    "10 - 100"
   ]
  },
  {
   "cell_type": "code",
   "execution_count": 6,
   "id": "4d784e2c-e3d3-4240-a6a4-10e9ea741c85",
   "metadata": {},
   "outputs": [
    {
     "data": {
      "text/plain": [
       "3125"
      ]
     },
     "execution_count": 6,
     "metadata": {},
     "output_type": "execute_result"
    }
   ],
   "source": [
    "5 * 5 * 5 * 5 * 5"
   ]
  },
  {
   "cell_type": "code",
   "execution_count": 7,
   "id": "99768c8f-9fae-4fda-ac84-bcf78bdadb49",
   "metadata": {},
   "outputs": [
    {
     "data": {
      "text/plain": [
       "3125"
      ]
     },
     "execution_count": 7,
     "metadata": {},
     "output_type": "execute_result"
    }
   ],
   "source": [
    "5*5*5*5*5"
   ]
  },
  {
   "cell_type": "code",
   "execution_count": 8,
   "id": "979133dc-5909-4647-ab52-2dd9376ad3e0",
   "metadata": {},
   "outputs": [
    {
     "data": {
      "text/plain": [
       "30.0"
      ]
     },
     "execution_count": 8,
     "metadata": {},
     "output_type": "execute_result"
    }
   ],
   "source": [
    "60 / 2"
   ]
  },
  {
   "cell_type": "code",
   "execution_count": 9,
   "id": "9633458a-5c52-45e8-8cfb-6c2c39ce9eda",
   "metadata": {},
   "outputs": [
    {
     "data": {
      "text/plain": [
       "300"
      ]
     },
     "execution_count": 9,
     "metadata": {},
     "output_type": "execute_result"
    }
   ],
   "source": [
    "60 * 5"
   ]
  },
  {
   "cell_type": "markdown",
   "id": "5f951a1d-63cd-4933-a7d3-cf99f50a9c4f",
   "metadata": {},
   "source": [
    "# Variables"
   ]
  },
  {
   "cell_type": "code",
   "execution_count": 10,
   "id": "c7ef96a6-68cd-4e16-aaab-d616236bf6a1",
   "metadata": {},
   "outputs": [],
   "source": [
    "age = 50"
   ]
  },
  {
   "cell_type": "code",
   "execution_count": 11,
   "id": "9812061e-a558-4c44-83e9-915b1a5d71b0",
   "metadata": {},
   "outputs": [
    {
     "data": {
      "text/plain": [
       "50"
      ]
     },
     "execution_count": 11,
     "metadata": {},
     "output_type": "execute_result"
    }
   ],
   "source": [
    "age"
   ]
  },
  {
   "cell_type": "code",
   "execution_count": 12,
   "id": "c786377d-cb83-466b-84e3-b744b932276a",
   "metadata": {},
   "outputs": [
    {
     "data": {
      "text/plain": [
       "250"
      ]
     },
     "execution_count": 12,
     "metadata": {},
     "output_type": "execute_result"
    }
   ],
   "source": [
    "age * 5"
   ]
  },
  {
   "cell_type": "code",
   "execution_count": 13,
   "id": "52f1d6f7-dbcb-41bc-bf14-67ed1eb949eb",
   "metadata": {},
   "outputs": [
    {
     "data": {
      "text/plain": [
       "25.0"
      ]
     },
     "execution_count": 13,
     "metadata": {},
     "output_type": "execute_result"
    }
   ],
   "source": [
    "age / 2"
   ]
  },
  {
   "cell_type": "code",
   "execution_count": 14,
   "id": "4953cd8d-3a34-4d22-bce2-7de7246b1e7b",
   "metadata": {},
   "outputs": [
    {
     "data": {
      "text/plain": [
       "150"
      ]
     },
     "execution_count": 14,
     "metadata": {},
     "output_type": "execute_result"
    }
   ],
   "source": [
    "age * 3"
   ]
  },
  {
   "cell_type": "code",
   "execution_count": 15,
   "id": "792b93be-69ac-4e4b-b3e4-74e97cc8f606",
   "metadata": {},
   "outputs": [],
   "source": [
    "# data type"
   ]
  },
  {
   "cell_type": "code",
   "execution_count": 16,
   "id": "25de301d-f05a-4b6c-82f5-bbaaa5e97177",
   "metadata": {},
   "outputs": [
    {
     "data": {
      "text/plain": [
       "int"
      ]
     },
     "execution_count": 16,
     "metadata": {},
     "output_type": "execute_result"
    }
   ],
   "source": [
    "type(10)"
   ]
  },
  {
   "cell_type": "code",
   "execution_count": 17,
   "id": "1fa32622-d3ab-4a62-9d8c-9a76c007983e",
   "metadata": {},
   "outputs": [
    {
     "data": {
      "text/plain": [
       "int"
      ]
     },
     "execution_count": 17,
     "metadata": {},
     "output_type": "execute_result"
    }
   ],
   "source": [
    "type(10 * 3)"
   ]
  },
  {
   "cell_type": "code",
   "execution_count": 18,
   "id": "1147845b-caa5-46b0-b211-942bb08ea4f1",
   "metadata": {},
   "outputs": [
    {
     "data": {
      "text/plain": [
       "int"
      ]
     },
     "execution_count": 18,
     "metadata": {},
     "output_type": "execute_result"
    }
   ],
   "source": [
    "type(age * 5)"
   ]
  },
  {
   "cell_type": "code",
   "execution_count": 19,
   "id": "54273cae-8298-48d7-8999-36bf577aaa03",
   "metadata": {},
   "outputs": [],
   "source": [
    "# int -> integer"
   ]
  },
  {
   "cell_type": "code",
   "execution_count": 20,
   "id": "76517bfd-7edb-4c57-9307-ac272120757d",
   "metadata": {},
   "outputs": [
    {
     "data": {
      "text/plain": [
       "int"
      ]
     },
     "execution_count": 20,
     "metadata": {},
     "output_type": "execute_result"
    }
   ],
   "source": [
    "type(-1000)"
   ]
  },
  {
   "cell_type": "code",
   "execution_count": 21,
   "id": "0080fdd4-8f96-4da7-abd5-95125acbebc1",
   "metadata": {},
   "outputs": [],
   "source": [
    "x = -100"
   ]
  },
  {
   "cell_type": "code",
   "execution_count": 22,
   "id": "0bcfbe33-dc43-4ff6-9dc6-e2422beaebb1",
   "metadata": {},
   "outputs": [
    {
     "data": {
      "text/plain": [
       "int"
      ]
     },
     "execution_count": 22,
     "metadata": {},
     "output_type": "execute_result"
    }
   ],
   "source": [
    "type(x)"
   ]
  },
  {
   "cell_type": "code",
   "execution_count": 23,
   "id": "6496c196-9e76-4daf-a18f-1953adc5d507",
   "metadata": {},
   "outputs": [
    {
     "data": {
      "text/plain": [
       "float"
      ]
     },
     "execution_count": 23,
     "metadata": {},
     "output_type": "execute_result"
    }
   ],
   "source": [
    "type(3.14)"
   ]
  },
  {
   "cell_type": "code",
   "execution_count": 24,
   "id": "95681e88-5b41-4f0c-b25c-f2d5c4a87cf6",
   "metadata": {},
   "outputs": [],
   "source": [
    "# float -> floating point"
   ]
  },
  {
   "cell_type": "code",
   "execution_count": 25,
   "id": "55794e08-bc1d-4b69-a2e5-a897600728b2",
   "metadata": {},
   "outputs": [],
   "source": [
    "pi = 3.14"
   ]
  },
  {
   "cell_type": "code",
   "execution_count": 26,
   "id": "9a89c569-f096-426a-b8cb-b0f5bdc5290b",
   "metadata": {},
   "outputs": [
    {
     "data": {
      "text/plain": [
       "6.28"
      ]
     },
     "execution_count": 26,
     "metadata": {},
     "output_type": "execute_result"
    }
   ],
   "source": [
    "pi * 2"
   ]
  },
  {
   "cell_type": "code",
   "execution_count": 27,
   "id": "e17cc4e2-3b78-4e9b-ada1-085b2b25ec64",
   "metadata": {},
   "outputs": [
    {
     "data": {
      "text/plain": [
       "-100"
      ]
     },
     "execution_count": 27,
     "metadata": {},
     "output_type": "execute_result"
    }
   ],
   "source": [
    "x"
   ]
  },
  {
   "cell_type": "code",
   "execution_count": 28,
   "id": "a964f405-8b0f-4a09-bbb0-983722e080fd",
   "metadata": {},
   "outputs": [
    {
     "data": {
      "text/plain": [
       "-96.86"
      ]
     },
     "execution_count": 28,
     "metadata": {},
     "output_type": "execute_result"
    }
   ],
   "source": [
    "x + pi"
   ]
  },
  {
   "cell_type": "code",
   "execution_count": 29,
   "id": "ec8e4adf-a769-47d4-9b78-e114f709a0cc",
   "metadata": {},
   "outputs": [
    {
     "data": {
      "text/plain": [
       "-31.84713375796178"
      ]
     },
     "execution_count": 29,
     "metadata": {},
     "output_type": "execute_result"
    }
   ],
   "source": [
    "x / pi"
   ]
  },
  {
   "cell_type": "code",
   "execution_count": 30,
   "id": "3368d6fc-8092-4308-aed5-d38043da2333",
   "metadata": {},
   "outputs": [],
   "source": [
    "x = 10"
   ]
  },
  {
   "cell_type": "code",
   "execution_count": 31,
   "id": "d7dc7138-006f-4640-b853-5b9a36d72388",
   "metadata": {},
   "outputs": [],
   "source": [
    "x = 20"
   ]
  },
  {
   "cell_type": "code",
   "execution_count": 32,
   "id": "e8e436a1-8dce-4c0b-8ca1-f20c7be9cf72",
   "metadata": {},
   "outputs": [
    {
     "data": {
      "text/plain": [
       "30"
      ]
     },
     "execution_count": 32,
     "metadata": {},
     "output_type": "execute_result"
    }
   ],
   "source": [
    "x + 10"
   ]
  },
  {
   "cell_type": "code",
   "execution_count": 33,
   "id": "f7903e63-fcff-4c83-b2a1-7fb7fd92fa41",
   "metadata": {},
   "outputs": [],
   "source": [
    "myFloat = 1.34432423"
   ]
  },
  {
   "cell_type": "code",
   "execution_count": 34,
   "id": "442ff8e0-a701-4576-be6c-5b84b0acbc79",
   "metadata": {},
   "outputs": [
    {
     "data": {
      "text/plain": [
       "float"
      ]
     },
     "execution_count": 34,
     "metadata": {},
     "output_type": "execute_result"
    }
   ],
   "source": [
    "type(myFloat)"
   ]
  },
  {
   "cell_type": "code",
   "execution_count": 35,
   "id": "2abd4e1f-8245-4b4e-b4c3-a0df05aa002b",
   "metadata": {},
   "outputs": [],
   "source": [
    "# camelCase\n",
    "# snake_case"
   ]
  },
  {
   "cell_type": "code",
   "execution_count": 36,
   "id": "d7127319-3ff4-4bf1-8265-8b8869f4b488",
   "metadata": {},
   "outputs": [
    {
     "data": {
      "text/plain": [
       "10.0"
      ]
     },
     "execution_count": 36,
     "metadata": {},
     "output_type": "execute_result"
    }
   ],
   "source": [
    "40 / 4"
   ]
  },
  {
   "cell_type": "code",
   "execution_count": 37,
   "id": "8f10296b-6514-4ac1-a2c4-3628d970dcf0",
   "metadata": {},
   "outputs": [
    {
     "data": {
      "text/plain": [
       "float"
      ]
     },
     "execution_count": 37,
     "metadata": {},
     "output_type": "execute_result"
    }
   ],
   "source": [
    "type(40 / 4)"
   ]
  },
  {
   "cell_type": "code",
   "execution_count": 38,
   "id": "30dd2d9c-5860-4d56-9006-fe62d4b04822",
   "metadata": {},
   "outputs": [
    {
     "data": {
      "text/plain": [
       "4.444444444444445"
      ]
     },
     "execution_count": 38,
     "metadata": {},
     "output_type": "execute_result"
    }
   ],
   "source": [
    "40 / 9"
   ]
  },
  {
   "cell_type": "code",
   "execution_count": 39,
   "id": "6fc8ad91-333f-45da-9070-a90195187f92",
   "metadata": {},
   "outputs": [
    {
     "data": {
      "text/plain": [
       "3.076923076923077"
      ]
     },
     "execution_count": 39,
     "metadata": {},
     "output_type": "execute_result"
    }
   ],
   "source": [
    "40 / 13"
   ]
  },
  {
   "cell_type": "code",
   "execution_count": 40,
   "id": "fe4eec8c-dbb4-437f-8339-4f8580028c11",
   "metadata": {},
   "outputs": [
    {
     "data": {
      "text/plain": [
       "2.0"
      ]
     },
     "execution_count": 40,
     "metadata": {},
     "output_type": "execute_result"
    }
   ],
   "source": [
    "4 / 2"
   ]
  },
  {
   "cell_type": "code",
   "execution_count": 41,
   "id": "ea25d906-2d74-4f2e-abd1-1c54f37e07a9",
   "metadata": {},
   "outputs": [
    {
     "data": {
      "text/plain": [
       "1.3333333333333333"
      ]
     },
     "execution_count": 41,
     "metadata": {},
     "output_type": "execute_result"
    }
   ],
   "source": [
    "4 / 3"
   ]
  },
  {
   "cell_type": "code",
   "execution_count": 42,
   "id": "1463517b-3df9-4fec-a8e3-ce98dc2fbfba",
   "metadata": {},
   "outputs": [
    {
     "data": {
      "text/plain": [
       "1.3333333333333333"
      ]
     },
     "execution_count": 42,
     "metadata": {},
     "output_type": "execute_result"
    }
   ],
   "source": [
    "4.0 / 3.0"
   ]
  },
  {
   "cell_type": "code",
   "execution_count": 43,
   "id": "cf08e62d-1e9d-4e6b-964d-904ea2b820fb",
   "metadata": {},
   "outputs": [
    {
     "data": {
      "text/plain": [
       "int"
      ]
     },
     "execution_count": 43,
     "metadata": {},
     "output_type": "execute_result"
    }
   ],
   "source": [
    "type(4)"
   ]
  },
  {
   "cell_type": "code",
   "execution_count": 44,
   "id": "8fa2b850-9626-45a5-aea0-7d38181d3748",
   "metadata": {},
   "outputs": [
    {
     "data": {
      "text/plain": [
       "float"
      ]
     },
     "execution_count": 44,
     "metadata": {},
     "output_type": "execute_result"
    }
   ],
   "source": [
    "type(4.0)"
   ]
  },
  {
   "cell_type": "code",
   "execution_count": 45,
   "id": "7b985c2b-821c-44fa-8e28-f7b8b31fd1b7",
   "metadata": {},
   "outputs": [
    {
     "data": {
      "text/plain": [
       "8"
      ]
     },
     "execution_count": 45,
     "metadata": {},
     "output_type": "execute_result"
    }
   ],
   "source": [
    "4 * 2"
   ]
  },
  {
   "cell_type": "code",
   "execution_count": 46,
   "id": "3e37f1e5-f739-41f3-9aa9-682ece48466c",
   "metadata": {},
   "outputs": [
    {
     "data": {
      "text/plain": [
       "6"
      ]
     },
     "execution_count": 46,
     "metadata": {},
     "output_type": "execute_result"
    }
   ],
   "source": [
    "4 + 2"
   ]
  },
  {
   "cell_type": "code",
   "execution_count": 47,
   "id": "65ae6261-1f0c-4314-93bf-7884eac6fbad",
   "metadata": {
    "scrolled": true
   },
   "outputs": [
    {
     "data": {
      "text/plain": [
       "2"
      ]
     },
     "execution_count": 47,
     "metadata": {},
     "output_type": "execute_result"
    }
   ],
   "source": [
    "4 - 2"
   ]
  },
  {
   "cell_type": "code",
   "execution_count": 48,
   "id": "fc7cc1a5-8696-4ab5-bfcd-99cd8c20bab4",
   "metadata": {},
   "outputs": [
    {
     "data": {
      "text/plain": [
       "2.0"
      ]
     },
     "execution_count": 48,
     "metadata": {},
     "output_type": "execute_result"
    }
   ],
   "source": [
    "4.0 - 2"
   ]
  },
  {
   "cell_type": "code",
   "execution_count": 49,
   "id": "e187eee8-0fd4-491d-bce7-08392603d976",
   "metadata": {},
   "outputs": [
    {
     "data": {
      "text/plain": [
       "2.0999999999999996"
      ]
     },
     "execution_count": 49,
     "metadata": {},
     "output_type": "execute_result"
    }
   ],
   "source": [
    "4.1 - 2"
   ]
  },
  {
   "cell_type": "code",
   "execution_count": 50,
   "id": "45d0c680-2128-4aba-a61d-c2d23b9a55a6",
   "metadata": {},
   "outputs": [
    {
     "data": {
      "text/plain": [
       "2.2"
      ]
     },
     "execution_count": 50,
     "metadata": {},
     "output_type": "execute_result"
    }
   ],
   "source": [
    "4.2 - 2"
   ]
  },
  {
   "cell_type": "code",
   "execution_count": 51,
   "id": "be00234a-11e9-4dd4-8037-e722bf6d91a5",
   "metadata": {},
   "outputs": [
    {
     "data": {
      "text/plain": [
       "2.3"
      ]
     },
     "execution_count": 51,
     "metadata": {},
     "output_type": "execute_result"
    }
   ],
   "source": [
    "4.3 - 2"
   ]
  },
  {
   "cell_type": "code",
   "execution_count": 52,
   "id": "e405e236-56e4-4773-8102-b949831b840f",
   "metadata": {},
   "outputs": [
    {
     "data": {
      "text/plain": [
       "2.4000000000000004"
      ]
     },
     "execution_count": 52,
     "metadata": {},
     "output_type": "execute_result"
    }
   ],
   "source": [
    "4.4 - 2"
   ]
  },
  {
   "cell_type": "code",
   "execution_count": 53,
   "id": "d41c7a56-c7bd-4267-b734-e1c73aced977",
   "metadata": {},
   "outputs": [
    {
     "data": {
      "text/plain": [
       "2.5"
      ]
     },
     "execution_count": 53,
     "metadata": {},
     "output_type": "execute_result"
    }
   ],
   "source": [
    "4.5 - 2\n"
   ]
  },
  {
   "cell_type": "code",
   "execution_count": 54,
   "id": "3e1b58d4-0478-466d-87be-d69807ae79db",
   "metadata": {},
   "outputs": [
    {
     "data": {
      "text/plain": [
       "float"
      ]
     },
     "execution_count": 54,
     "metadata": {},
     "output_type": "execute_result"
    }
   ],
   "source": [
    "type(4.5 - 2)"
   ]
  },
  {
   "cell_type": "code",
   "execution_count": 55,
   "id": "facafa7a-1062-4ac5-baa4-3947ff32df70",
   "metadata": {},
   "outputs": [
    {
     "data": {
      "text/plain": [
       "12.600000000000001"
      ]
     },
     "execution_count": 55,
     "metadata": {},
     "output_type": "execute_result"
    }
   ],
   "source": [
    "4.2 * 3"
   ]
  },
  {
   "cell_type": "code",
   "execution_count": 56,
   "id": "b99fb972-22f0-4cf5-b108-afbbe84e3df9",
   "metadata": {},
   "outputs": [
    {
     "data": {
      "text/plain": [
       "13.440000000000001"
      ]
     },
     "execution_count": 56,
     "metadata": {},
     "output_type": "execute_result"
    }
   ],
   "source": [
    "4.2 * 3.2"
   ]
  },
  {
   "cell_type": "code",
   "execution_count": 57,
   "id": "0b04b604-f2a3-4569-9764-bce4d3ab66b7",
   "metadata": {},
   "outputs": [
    {
     "data": {
      "text/plain": [
       "2.6000000000000014"
      ]
     },
     "execution_count": 57,
     "metadata": {},
     "output_type": "execute_result"
    }
   ],
   "source": [
    "4.2 * 3 - 10"
   ]
  },
  {
   "cell_type": "code",
   "execution_count": 58,
   "id": "c3d7bae7-c931-448b-8252-51a544e3bd40",
   "metadata": {},
   "outputs": [
    {
     "data": {
      "text/plain": [
       "-18"
      ]
     },
     "execution_count": 58,
     "metadata": {},
     "output_type": "execute_result"
    }
   ],
   "source": [
    "2 - 10 * 2"
   ]
  },
  {
   "cell_type": "code",
   "execution_count": 59,
   "id": "9dad738d-19e1-4850-ac10-828eae96e708",
   "metadata": {},
   "outputs": [
    {
     "data": {
      "text/plain": [
       "32"
      ]
     },
     "execution_count": 59,
     "metadata": {},
     "output_type": "execute_result"
    }
   ],
   "source": [
    "2 * 2 * 2 * 2 * 2"
   ]
  },
  {
   "cell_type": "code",
   "execution_count": 60,
   "id": "653ec0cd-e6de-474a-a7e9-d519447c64dc",
   "metadata": {},
   "outputs": [
    {
     "data": {
      "text/plain": [
       "32"
      ]
     },
     "execution_count": 60,
     "metadata": {},
     "output_type": "execute_result"
    }
   ],
   "source": [
    "2 ** 5"
   ]
  },
  {
   "cell_type": "code",
   "execution_count": 61,
   "id": "9c7e08e4-40f5-4fec-beaf-942492c43929",
   "metadata": {},
   "outputs": [
    {
     "data": {
      "text/plain": [
       "512"
      ]
     },
     "execution_count": 61,
     "metadata": {},
     "output_type": "execute_result"
    }
   ],
   "source": [
    "2 ** 9"
   ]
  },
  {
   "cell_type": "code",
   "execution_count": 62,
   "id": "786cd4fc-9d81-449a-8159-6607b465daa9",
   "metadata": {},
   "outputs": [
    {
     "data": {
      "text/plain": [
       "1"
      ]
     },
     "execution_count": 62,
     "metadata": {},
     "output_type": "execute_result"
    }
   ],
   "source": [
    "10 % 3 # remainder"
   ]
  },
  {
   "cell_type": "code",
   "execution_count": 63,
   "id": "3c4e0645-e35e-4c1d-a099-8e4fe0692163",
   "metadata": {},
   "outputs": [
    {
     "data": {
      "text/plain": [
       "0"
      ]
     },
     "execution_count": 63,
     "metadata": {},
     "output_type": "execute_result"
    }
   ],
   "source": [
    "10 % 2"
   ]
  },
  {
   "cell_type": "code",
   "execution_count": 64,
   "id": "c495b0de-6f03-4cca-8c58-949196d55d05",
   "metadata": {},
   "outputs": [
    {
     "data": {
      "text/plain": [
       "2"
      ]
     },
     "execution_count": 64,
     "metadata": {},
     "output_type": "execute_result"
    }
   ],
   "source": [
    "10 % 4"
   ]
  }
 ],
 "metadata": {
  "kernelspec": {
   "display_name": "Python 3 (ipykernel)",
   "language": "python",
   "name": "python3"
  },
  "language_info": {
   "codemirror_mode": {
    "name": "ipython",
    "version": 3
   },
   "file_extension": ".py",
   "mimetype": "text/x-python",
   "name": "python",
   "nbconvert_exporter": "python",
   "pygments_lexer": "ipython3",
   "version": "3.12.4"
  }
 },
 "nbformat": 4,
 "nbformat_minor": 5
}
