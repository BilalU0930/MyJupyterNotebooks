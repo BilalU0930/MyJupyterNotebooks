{
 "cells": [
  {
   "cell_type": "code",
   "execution_count": 1,
   "id": "f8426397-cecc-482d-8600-85a53ae1bcbc",
   "metadata": {},
   "outputs": [
    {
     "data": {
      "text/plain": [
       "'Hello World'"
      ]
     },
     "execution_count": 1,
     "metadata": {},
     "output_type": "execute_result"
    }
   ],
   "source": [
    "\"Hello World\""
   ]
  },
  {
   "cell_type": "code",
   "execution_count": 2,
   "id": "88432e81-b5ba-4a5b-9ca0-221ed1ff3aaa",
   "metadata": {},
   "outputs": [
    {
     "name": "stdout",
     "output_type": "stream",
     "text": [
      "Hello Python\n"
     ]
    }
   ],
   "source": [
    "print(\"Hello Python\")"
   ]
  },
  {
   "cell_type": "code",
   "execution_count": 3,
   "id": "6b2b976b-26e6-49e5-a4ba-021741eaafd2",
   "metadata": {},
   "outputs": [],
   "source": [
    "name = \"Bilal\""
   ]
  },
  {
   "cell_type": "code",
   "execution_count": 4,
   "id": "e2065721-0dc0-4c9e-b6e8-112c8f49d07b",
   "metadata": {},
   "outputs": [
    {
     "data": {
      "text/plain": [
       "str"
      ]
     },
     "execution_count": 4,
     "metadata": {},
     "output_type": "execute_result"
    }
   ],
   "source": [
    "type(name)"
   ]
  },
  {
   "cell_type": "code",
   "execution_count": 5,
   "id": "618e6e25-8dd4-4ad2-9279-7f572ec2e1a6",
   "metadata": {},
   "outputs": [
    {
     "data": {
      "text/plain": [
       "'Bilal Restaurant'"
      ]
     },
     "execution_count": 5,
     "metadata": {},
     "output_type": "execute_result"
    }
   ],
   "source": [
    "'Bilal Restaurant'"
   ]
  },
  {
   "cell_type": "code",
   "execution_count": 6,
   "id": "e441dd86-2899-4a48-a420-4f64d4046ae2",
   "metadata": {},
   "outputs": [
    {
     "data": {
      "text/plain": [
       "'Bilal Restaurant'"
      ]
     },
     "execution_count": 6,
     "metadata": {},
     "output_type": "execute_result"
    }
   ],
   "source": [
    "\"Bilal Restaurant\""
   ]
  },
  {
   "cell_type": "code",
   "execution_count": 7,
   "id": "b1a70efd-f639-4b2a-a795-ad17da684b47",
   "metadata": {},
   "outputs": [
    {
     "data": {
      "text/plain": [
       "\"Bilal's Restaurant\""
      ]
     },
     "execution_count": 7,
     "metadata": {},
     "output_type": "execute_result"
    }
   ],
   "source": [
    "\"Bilal's Restaurant\""
   ]
  },
  {
   "cell_type": "code",
   "execution_count": 9,
   "id": "18f852bd-33ce-4a8b-85ca-d69491570346",
   "metadata": {},
   "outputs": [],
   "source": [
    "name = \"Bilal\""
   ]
  },
  {
   "cell_type": "code",
   "execution_count": 10,
   "id": "0b9bc2e4-2a10-4323-9248-2fb9b5df21c7",
   "metadata": {},
   "outputs": [
    {
     "data": {
      "text/plain": [
       "str"
      ]
     },
     "execution_count": 10,
     "metadata": {},
     "output_type": "execute_result"
    }
   ],
   "source": [
    "type(name)"
   ]
  },
  {
   "cell_type": "code",
   "execution_count": 13,
   "id": "8bbf2674-1704-467a-8e9f-2807532d7644",
   "metadata": {},
   "outputs": [],
   "source": [
    "name  = \"bilal Uygur\""
   ]
  },
  {
   "cell_type": "code",
   "execution_count": 12,
   "id": "5bb837d5-2fbd-485d-afd8-0751c5d2f3d9",
   "metadata": {},
   "outputs": [
    {
     "data": {
      "text/plain": [
       "'Bilal uygur'"
      ]
     },
     "execution_count": 12,
     "metadata": {},
     "output_type": "execute_result"
    }
   ],
   "source": [
    "name.capitalize()"
   ]
  },
  {
   "cell_type": "code",
   "execution_count": 14,
   "id": "71bcaad9-c1f2-474a-b4e4-4790150cfd4f",
   "metadata": {},
   "outputs": [
    {
     "data": {
      "text/plain": [
       "<function str.capitalize()>"
      ]
     },
     "execution_count": 14,
     "metadata": {},
     "output_type": "execute_result"
    }
   ],
   "source": [
    "name.capitalize"
   ]
  },
  {
   "cell_type": "code",
   "execution_count": 15,
   "id": "85630f4c-95fd-4e99-bdd8-dd28bfc99415",
   "metadata": {},
   "outputs": [],
   "source": [
    "x = 10"
   ]
  },
  {
   "cell_type": "code",
   "execution_count": 16,
   "id": "3cb3db08-e95f-4002-9ea3-09fb95a88761",
   "metadata": {},
   "outputs": [],
   "source": [
    "x = 8"
   ]
  },
  {
   "cell_type": "code",
   "execution_count": 17,
   "id": "b7debeee-c725-45b3-827e-97b9b65e17f2",
   "metadata": {},
   "outputs": [
    {
     "data": {
      "text/plain": [
       "'bilal Uygur'"
      ]
     },
     "execution_count": 17,
     "metadata": {},
     "output_type": "execute_result"
    }
   ],
   "source": [
    "name"
   ]
  },
  {
   "cell_type": "code",
   "execution_count": 19,
   "id": "76edc841-7dae-4d90-9c53-96ab64962d87",
   "metadata": {},
   "outputs": [
    {
     "name": "stdout",
     "output_type": "stream",
     "text": [
      "Help on built-in function count:\n",
      "\n",
      "count(...) method of builtins.str instance\n",
      "    S.count(sub[, start[, end]]) -> int\n",
      "\n",
      "    Return the number of non-overlapping occurrences of substring sub in\n",
      "    string S[start:end].  Optional arguments start and end are\n",
      "    interpreted as in slice notation.\n",
      "\n"
     ]
    }
   ],
   "source": [
    "help(name.count)"
   ]
  },
  {
   "cell_type": "code",
   "execution_count": 20,
   "id": "851d8101-820e-4715-bfff-8fca2dd7af26",
   "metadata": {},
   "outputs": [
    {
     "name": "stdout",
     "output_type": "stream",
     "text": [
      "Help on built-in function capitalize:\n",
      "\n",
      "capitalize() method of builtins.str instance\n",
      "    Return a capitalized version of the string.\n",
      "\n",
      "    More specifically, make the first character have upper case and the rest lower\n",
      "    case.\n",
      "\n"
     ]
    }
   ],
   "source": [
    "help(name.capitalize)"
   ]
  },
  {
   "cell_type": "code",
   "execution_count": 21,
   "id": "d7d6943f-e863-4579-8da5-28cb6fd317f9",
   "metadata": {},
   "outputs": [
    {
     "data": {
      "text/plain": [
       "'bilal Uygur'"
      ]
     },
     "execution_count": 21,
     "metadata": {},
     "output_type": "execute_result"
    }
   ],
   "source": [
    "name"
   ]
  },
  {
   "cell_type": "code",
   "execution_count": 22,
   "id": "99e7f67c-25c2-4b6b-b692-134b225ed256",
   "metadata": {},
   "outputs": [
    {
     "data": {
      "text/plain": [
       "1"
      ]
     },
     "execution_count": 22,
     "metadata": {},
     "output_type": "execute_result"
    }
   ],
   "source": [
    "name.count(\"a\")"
   ]
  },
  {
   "cell_type": "code",
   "execution_count": 23,
   "id": "f61b3e69-db52-4ea1-86c4-62222d10094f",
   "metadata": {},
   "outputs": [
    {
     "data": {
      "text/plain": [
       "1"
      ]
     },
     "execution_count": 23,
     "metadata": {},
     "output_type": "execute_result"
    }
   ],
   "source": [
    "name.count(\"b\")"
   ]
  },
  {
   "cell_type": "code",
   "execution_count": 24,
   "id": "c67e4f46-bb87-4684-ace0-782878b8adc4",
   "metadata": {},
   "outputs": [
    {
     "data": {
      "text/plain": [
       "'BILAL UYGUR'"
      ]
     },
     "execution_count": 24,
     "metadata": {},
     "output_type": "execute_result"
    }
   ],
   "source": [
    "name.upper()"
   ]
  },
  {
   "cell_type": "code",
   "execution_count": 25,
   "id": "931036c7-85e5-42c4-8c62-ebbaf5398a90",
   "metadata": {},
   "outputs": [
    {
     "data": {
      "text/plain": [
       "'bilal Uygur'"
      ]
     },
     "execution_count": 25,
     "metadata": {},
     "output_type": "execute_result"
    }
   ],
   "source": [
    "name"
   ]
  },
  {
   "cell_type": "code",
   "execution_count": 28,
   "id": "35603d86-7563-4d80-b7b9-8fb2a14c6abc",
   "metadata": {},
   "outputs": [],
   "source": [
    "x = 10\n",
    "y  = 5"
   ]
  },
  {
   "cell_type": "code",
   "execution_count": 29,
   "id": "0afb1d08-8e08-41f0-915a-c04130bfba29",
   "metadata": {},
   "outputs": [
    {
     "data": {
      "text/plain": [
       "18"
      ]
     },
     "execution_count": 29,
     "metadata": {},
     "output_type": "execute_result"
    }
   ],
   "source": [
    "x + y"
   ]
  },
  {
   "cell_type": "code",
   "execution_count": 30,
   "id": "e1b10a6d-9b13-4926-b949-cadb4d86135b",
   "metadata": {},
   "outputs": [],
   "source": [
    "z = x + y"
   ]
  },
  {
   "cell_type": "code",
   "execution_count": 31,
   "id": "ea0e2d19-3e33-427e-b808-7217aedfdeef",
   "metadata": {},
   "outputs": [
    {
     "data": {
      "text/plain": [
       "18"
      ]
     },
     "execution_count": 31,
     "metadata": {},
     "output_type": "execute_result"
    }
   ],
   "source": [
    "z"
   ]
  },
  {
   "cell_type": "code",
   "execution_count": 32,
   "id": "b45efa95-3c31-4b28-94e8-e5de79c8c828",
   "metadata": {},
   "outputs": [
    {
     "data": {
      "text/plain": [
       "'bilal Uygur'"
      ]
     },
     "execution_count": 32,
     "metadata": {},
     "output_type": "execute_result"
    }
   ],
   "source": [
    "name"
   ]
  },
  {
   "cell_type": "code",
   "execution_count": 33,
   "id": "608f1913-257a-4ee7-ae4c-259c7fe79503",
   "metadata": {},
   "outputs": [],
   "source": [
    "nameUpper = name.upper()"
   ]
  },
  {
   "cell_type": "code",
   "execution_count": 34,
   "id": "70e721f5-0940-4ed7-9e72-8913a955aea2",
   "metadata": {},
   "outputs": [
    {
     "data": {
      "text/plain": [
       "'BILAL UYGUR'"
      ]
     },
     "execution_count": 34,
     "metadata": {},
     "output_type": "execute_result"
    }
   ],
   "source": [
    "nameUpper"
   ]
  },
  {
   "cell_type": "code",
   "execution_count": 35,
   "id": "3269e76d-a13b-47b5-b012-5a54d0ad2f52",
   "metadata": {},
   "outputs": [
    {
     "data": {
      "text/plain": [
       "'bilal Uygur'"
      ]
     },
     "execution_count": 35,
     "metadata": {},
     "output_type": "execute_result"
    }
   ],
   "source": [
    "name"
   ]
  },
  {
   "cell_type": "code",
   "execution_count": 36,
   "id": "f04ed181-fff1-495b-814b-c879ead2e788",
   "metadata": {},
   "outputs": [
    {
     "name": "stdout",
     "output_type": "stream",
     "text": [
      "BILAL UYGUR\n"
     ]
    }
   ],
   "source": [
    "print(name.upper())"
   ]
  },
  {
   "cell_type": "code",
   "execution_count": 37,
   "id": "e4de1488-49de-4b4a-8eb1-b8819f9a0440",
   "metadata": {},
   "outputs": [
    {
     "name": "stdout",
     "output_type": "stream",
     "text": [
      "Help on built-in function upper:\n",
      "\n",
      "upper() method of builtins.str instance\n",
      "    Return a copy of the string converted to uppercase.\n",
      "\n"
     ]
    }
   ],
   "source": [
    "help(name.upper)"
   ]
  },
  {
   "cell_type": "code",
   "execution_count": 38,
   "id": "2caa7deb-b82f-4ee3-a0d1-fed67a62143b",
   "metadata": {},
   "outputs": [
    {
     "data": {
      "text/plain": [
       "11"
      ]
     },
     "execution_count": 38,
     "metadata": {},
     "output_type": "execute_result"
    }
   ],
   "source": [
    "len(name) # length"
   ]
  },
  {
   "cell_type": "code",
   "execution_count": 39,
   "id": "77c3e61a-31ff-4f07-ad67-4f61536526e2",
   "metadata": {},
   "outputs": [
    {
     "name": "stdout",
     "output_type": "stream",
     "text": [
      "bilal uygur\n"
     ]
    }
   ],
   "source": [
    "print(\"bilal uygur\")"
   ]
  },
  {
   "cell_type": "code",
   "execution_count": 40,
   "id": "ba3da473-feb1-446d-b9d3-46f723211fe9",
   "metadata": {},
   "outputs": [
    {
     "name": "stdout",
     "output_type": "stream",
     "text": [
      "bilal \n",
      "uygur\n"
     ]
    }
   ],
   "source": [
    "print(\"bilal \\nuygur\")"
   ]
  },
  {
   "cell_type": "code",
   "execution_count": 41,
   "id": "61c1bf51-0e2c-4f5e-9ccb-d21fba830363",
   "metadata": {},
   "outputs": [],
   "source": [
    "#  /n -> new line"
   ]
  },
  {
   "cell_type": "code",
   "execution_count": 42,
   "id": "94725932-8672-4b86-85bf-c84d12360b7e",
   "metadata": {},
   "outputs": [],
   "source": [
    "# escape characters"
   ]
  },
  {
   "cell_type": "code",
   "execution_count": 43,
   "id": "8b38bf0d-5768-436c-8da5-29025770aa86",
   "metadata": {},
   "outputs": [],
   "source": [
    "#  /t -> tab"
   ]
  },
  {
   "cell_type": "code",
   "execution_count": 45,
   "id": "9ae573e8-08b5-41a0-95e7-0d07185054a1",
   "metadata": {},
   "outputs": [
    {
     "name": "stdout",
     "output_type": "stream",
     "text": [
      "bilal \tuygur\n"
     ]
    }
   ],
   "source": [
    "print(\"bilal \\tuygur\")"
   ]
  },
  {
   "cell_type": "markdown",
   "id": "cab11f64-88a6-438a-9fa2-71b75a7b508d",
   "metadata": {},
   "source": [
    "# İndex"
   ]
  },
  {
   "cell_type": "code",
   "execution_count": 46,
   "id": "8fc1d390-0751-4046-90a3-dc53ee340f82",
   "metadata": {},
   "outputs": [],
   "source": [
    "myString = \"hello python\""
   ]
  },
  {
   "cell_type": "code",
   "execution_count": 49,
   "id": "6290de3e-31ff-4919-9ed2-89e3883b12b1",
   "metadata": {},
   "outputs": [
    {
     "data": {
      "text/plain": [
       "'o'"
      ]
     },
     "execution_count": 49,
     "metadata": {},
     "output_type": "execute_result"
    }
   ],
   "source": [
    "myString[4]"
   ]
  },
  {
   "cell_type": "code",
   "execution_count": 50,
   "id": "a70953d4-3049-4db9-8fde-844a64400e28",
   "metadata": {},
   "outputs": [
    {
     "data": {
      "text/plain": [
       "'h'"
      ]
     },
     "execution_count": 50,
     "metadata": {},
     "output_type": "execute_result"
    }
   ],
   "source": [
    "myString[0]"
   ]
  },
  {
   "cell_type": "code",
   "execution_count": 51,
   "id": "61b68ad9-4897-41d9-8569-2e01c7448c41",
   "metadata": {},
   "outputs": [
    {
     "data": {
      "text/plain": [
       "'e'"
      ]
     },
     "execution_count": 51,
     "metadata": {},
     "output_type": "execute_result"
    }
   ],
   "source": [
    "myString[1]"
   ]
  },
  {
   "cell_type": "code",
   "execution_count": 52,
   "id": "f69724f5-3b4b-464a-a7d6-efc4f3b68356",
   "metadata": {},
   "outputs": [
    {
     "data": {
      "text/plain": [
       "'n'"
      ]
     },
     "execution_count": 52,
     "metadata": {},
     "output_type": "execute_result"
    }
   ],
   "source": [
    "myString[11]"
   ]
  },
  {
   "cell_type": "code",
   "execution_count": 54,
   "id": "87882f84-c733-41c3-82c6-2570065b2aa7",
   "metadata": {},
   "outputs": [
    {
     "data": {
      "text/plain": [
       "'o'"
      ]
     },
     "execution_count": 54,
     "metadata": {},
     "output_type": "execute_result"
    }
   ],
   "source": [
    "myString[10]"
   ]
  },
  {
   "cell_type": "code",
   "execution_count": 55,
   "id": "2cc594b3-b20a-4edb-a251-ae802ba5cce4",
   "metadata": {},
   "outputs": [
    {
     "data": {
      "text/plain": [
       "'hello python'"
      ]
     },
     "execution_count": 55,
     "metadata": {},
     "output_type": "execute_result"
    }
   ],
   "source": [
    "myString"
   ]
  },
  {
   "cell_type": "code",
   "execution_count": 56,
   "id": "dd162f1e-8fab-4d27-9cec-a41b89197257",
   "metadata": {},
   "outputs": [],
   "source": [
    "myString = \"bilal uygur\""
   ]
  },
  {
   "cell_type": "code",
   "execution_count": 57,
   "id": "b38f8098-44ea-43f1-94da-09a712ece260",
   "metadata": {},
   "outputs": [
    {
     "data": {
      "text/plain": [
       "'b'"
      ]
     },
     "execution_count": 57,
     "metadata": {},
     "output_type": "execute_result"
    }
   ],
   "source": [
    "myString[0]"
   ]
  },
  {
   "cell_type": "code",
   "execution_count": 62,
   "id": "3b547395-dd6c-4809-8ee3-f338a6c6e035",
   "metadata": {},
   "outputs": [
    {
     "data": {
      "text/plain": [
       "'y'"
      ]
     },
     "execution_count": 62,
     "metadata": {},
     "output_type": "execute_result"
    }
   ],
   "source": [
    "myString[7]"
   ]
  },
  {
   "cell_type": "code",
   "execution_count": 64,
   "id": "0cdf88b9-9924-4f69-be72-1221f3ef6596",
   "metadata": {},
   "outputs": [
    {
     "data": {
      "text/plain": [
       "'r'"
      ]
     },
     "execution_count": 64,
     "metadata": {},
     "output_type": "execute_result"
    }
   ],
   "source": [
    "myString[10]"
   ]
  },
  {
   "cell_type": "code",
   "execution_count": 65,
   "id": "4b395603-c39d-4975-83a4-fd25ccaf8df5",
   "metadata": {},
   "outputs": [
    {
     "data": {
      "text/plain": [
       "11"
      ]
     },
     "execution_count": 65,
     "metadata": {},
     "output_type": "execute_result"
    }
   ],
   "source": [
    "len(myString)"
   ]
  },
  {
   "cell_type": "code",
   "execution_count": 67,
   "id": "30b36841-4364-4584-b462-cb399ecdc0bb",
   "metadata": {},
   "outputs": [
    {
     "data": {
      "text/plain": [
       "10"
      ]
     },
     "execution_count": 67,
     "metadata": {},
     "output_type": "execute_result"
    }
   ],
   "source": [
    "len(myString) - 1"
   ]
  },
  {
   "cell_type": "code",
   "execution_count": 69,
   "id": "02a5e3d4-8a06-4236-9b7e-f23d8ebbcc79",
   "metadata": {},
   "outputs": [],
   "source": [
    "myName = \"james hetfield\""
   ]
  },
  {
   "cell_type": "code",
   "execution_count": 78,
   "id": "040f9972-9c52-46fc-a739-becdebde9b86",
   "metadata": {},
   "outputs": [
    {
     "data": {
      "text/plain": [
       "'d'"
      ]
     },
     "execution_count": 78,
     "metadata": {},
     "output_type": "execute_result"
    }
   ],
   "source": [
    "myName[len(myName) -1 ]"
   ]
  },
  {
   "cell_type": "code",
   "execution_count": 79,
   "id": "3c59d2ab-b47a-497d-905f-2518f68f759f",
   "metadata": {},
   "outputs": [
    {
     "data": {
      "text/plain": [
       "'d'"
      ]
     },
     "execution_count": 79,
     "metadata": {},
     "output_type": "execute_result"
    }
   ],
   "source": [
    "myName[-1]"
   ]
  },
  {
   "cell_type": "code",
   "execution_count": 80,
   "id": "8bb086ea-e26e-4247-8b90-1c227eaf720c",
   "metadata": {},
   "outputs": [
    {
     "data": {
      "text/plain": [
       "'l'"
      ]
     },
     "execution_count": 80,
     "metadata": {},
     "output_type": "execute_result"
    }
   ],
   "source": [
    "myName[-2]"
   ]
  },
  {
   "cell_type": "code",
   "execution_count": 1,
   "id": "30fcd0ae-50ff-4f16-b842-cf8f02cc0920",
   "metadata": {},
   "outputs": [],
   "source": [
    "barcode = \"ABCDE123123982\""
   ]
  },
  {
   "cell_type": "code",
   "execution_count": 2,
   "id": "1ea382b8-3277-41d1-babd-2cc4855ee58c",
   "metadata": {},
   "outputs": [
    {
     "data": {
      "text/plain": [
       "'A'"
      ]
     },
     "execution_count": 2,
     "metadata": {},
     "output_type": "execute_result"
    }
   ],
   "source": [
    "barcode[0]"
   ]
  },
  {
   "cell_type": "code",
   "execution_count": 3,
   "id": "a1b67cac-d68f-4831-af66-bacc7b8af797",
   "metadata": {},
   "outputs": [
    {
     "data": {
      "text/plain": [
       "'B'"
      ]
     },
     "execution_count": 3,
     "metadata": {},
     "output_type": "execute_result"
    }
   ],
   "source": [
    "barcode[1]"
   ]
  },
  {
   "cell_type": "code",
   "execution_count": 4,
   "id": "9c40b13f-e5b4-488a-9e18-66d9af2c6263",
   "metadata": {},
   "outputs": [
    {
     "data": {
      "text/plain": [
       "'C'"
      ]
     },
     "execution_count": 4,
     "metadata": {},
     "output_type": "execute_result"
    }
   ],
   "source": [
    "barcode[2]"
   ]
  },
  {
   "cell_type": "code",
   "execution_count": 5,
   "id": "03c533d7-ee3b-4490-80be-cb14b562924c",
   "metadata": {},
   "outputs": [
    {
     "data": {
      "text/plain": [
       "30"
      ]
     },
     "execution_count": 5,
     "metadata": {},
     "output_type": "execute_result"
    }
   ],
   "source": [
    "10 + 20"
   ]
  },
  {
   "cell_type": "code",
   "execution_count": 6,
   "id": "0ff69ab6-0b82-4e56-8049-97cb4f8601f6",
   "metadata": {},
   "outputs": [
    {
     "data": {
      "text/plain": [
       "'AB'"
      ]
     },
     "execution_count": 6,
     "metadata": {},
     "output_type": "execute_result"
    }
   ],
   "source": [
    "\"A\" + \"B\""
   ]
  },
  {
   "cell_type": "code",
   "execution_count": 7,
   "id": "5437d94e-cfea-42f0-9e34-7a968a3041c5",
   "metadata": {},
   "outputs": [],
   "source": [
    "name = \"bilal\""
   ]
  },
  {
   "cell_type": "code",
   "execution_count": 9,
   "id": "26b9b55e-d322-4004-8798-69f140101a17",
   "metadata": {},
   "outputs": [],
   "source": [
    "surname = \"uygur\""
   ]
  },
  {
   "cell_type": "code",
   "execution_count": 13,
   "id": "811aea5a-0abb-487e-b933-afc7738ab0e3",
   "metadata": {},
   "outputs": [],
   "source": [
    "fullname = name + \" \" + surname"
   ]
  },
  {
   "cell_type": "code",
   "execution_count": 14,
   "id": "78f81c35-d640-4a1c-ac21-daa45e882149",
   "metadata": {},
   "outputs": [
    {
     "data": {
      "text/plain": [
       "'bilal uygur'"
      ]
     },
     "execution_count": 14,
     "metadata": {},
     "output_type": "execute_result"
    }
   ],
   "source": [
    "fullname"
   ]
  },
  {
   "cell_type": "code",
   "execution_count": 15,
   "id": "0f314411-1ade-4043-92a1-1d5e1e1c5df0",
   "metadata": {},
   "outputs": [
    {
     "data": {
      "text/plain": [
       "'bilal uygur'"
      ]
     },
     "execution_count": 15,
     "metadata": {},
     "output_type": "execute_result"
    }
   ],
   "source": [
    "fullname"
   ]
  },
  {
   "cell_type": "code",
   "execution_count": 16,
   "id": "f0e7d29c-389e-4507-a55c-69d62822e9d9",
   "metadata": {},
   "outputs": [
    {
     "data": {
      "text/plain": [
       "'bilal uygurbilal uygurbilal uygurbilal uygurbilal uygur'"
      ]
     },
     "execution_count": 16,
     "metadata": {},
     "output_type": "execute_result"
    }
   ],
   "source": [
    "fullname * 5"
   ]
  },
  {
   "cell_type": "code",
   "execution_count": 17,
   "id": "f8ea851b-1fd7-493c-a38c-0fb1fc2a90b0",
   "metadata": {},
   "outputs": [
    {
     "data": {
      "text/plain": [
       "'aaaaaaaaaaaaaaaaaaaaaaaaaaaaaaaaaaaaaaaaaaaaaaaaaaaaaaaaaaaaaaaaaaaaaaaaaaaaaaaaaaaaaaaaaaaaaaaaaaaa'"
      ]
     },
     "execution_count": 17,
     "metadata": {},
     "output_type": "execute_result"
    }
   ],
   "source": [
    "100 * \"a\""
   ]
  },
  {
   "cell_type": "code",
   "execution_count": 20,
   "id": "6243951c-9d6e-4121-a352-7b3227c7ba0a",
   "metadata": {},
   "outputs": [
    {
     "data": {
      "text/plain": [
       "'ABCDE123123982'"
      ]
     },
     "execution_count": 20,
     "metadata": {},
     "output_type": "execute_result"
    }
   ],
   "source": [
    "barcode"
   ]
  },
  {
   "cell_type": "code",
   "execution_count": 21,
   "id": "6c54b563-f5db-4140-b90a-1d28a896f471",
   "metadata": {},
   "outputs": [
    {
     "data": {
      "text/plain": [
       "'ABC'"
      ]
     },
     "execution_count": 21,
     "metadata": {},
     "output_type": "execute_result"
    }
   ],
   "source": [
    "barcode[0] + barcode[1] + barcode[2]"
   ]
  },
  {
   "cell_type": "code",
   "execution_count": 22,
   "id": "5cead1b8-ca18-45ce-8d00-a8a2319ed5c2",
   "metadata": {},
   "outputs": [],
   "source": [
    "# slicing, starting index, stopping index, stepping size"
   ]
  },
  {
   "cell_type": "code",
   "execution_count": 23,
   "id": "2ff80d72-1086-4062-9e9a-8224fbdda197",
   "metadata": {},
   "outputs": [
    {
     "data": {
      "text/plain": [
       "'ABCDE123123982'"
      ]
     },
     "execution_count": 23,
     "metadata": {},
     "output_type": "execute_result"
    }
   ],
   "source": [
    "barcode[::]"
   ]
  },
  {
   "cell_type": "code",
   "execution_count": 25,
   "id": "b2bb5a63-cc76-408d-b8f8-bdf43ab5c205",
   "metadata": {},
   "outputs": [],
   "source": [
    "#barcode[#starting index: #stopping index: #stepping size]"
   ]
  },
  {
   "cell_type": "code",
   "execution_count": 26,
   "id": "23b32880-9dd9-4061-af3e-f8016a812fd5",
   "metadata": {},
   "outputs": [
    {
     "data": {
      "text/plain": [
       "'DE123123982'"
      ]
     },
     "execution_count": 26,
     "metadata": {},
     "output_type": "execute_result"
    }
   ],
   "source": [
    "barcode[3::]"
   ]
  },
  {
   "cell_type": "code",
   "execution_count": 27,
   "id": "a4fd2418-ecd0-4579-bbab-42fdef2ed263",
   "metadata": {},
   "outputs": [
    {
     "data": {
      "text/plain": [
       "'ABC'"
      ]
     },
     "execution_count": 27,
     "metadata": {},
     "output_type": "execute_result"
    }
   ],
   "source": [
    "barcode[:3:]"
   ]
  },
  {
   "cell_type": "code",
   "execution_count": 28,
   "id": "b5a3908b-733f-4f0e-9189-7ec58e5b7381",
   "metadata": {},
   "outputs": [
    {
     "data": {
      "text/plain": [
       "'ABCDE'"
      ]
     },
     "execution_count": 28,
     "metadata": {},
     "output_type": "execute_result"
    }
   ],
   "source": [
    "barcode[:5:]"
   ]
  },
  {
   "cell_type": "code",
   "execution_count": 29,
   "id": "a6c583d4-0153-48db-a05f-0009df048474",
   "metadata": {},
   "outputs": [
    {
     "data": {
      "text/plain": [
       "'ABCDE123123982'"
      ]
     },
     "execution_count": 29,
     "metadata": {},
     "output_type": "execute_result"
    }
   ],
   "source": [
    "barcode"
   ]
  },
  {
   "cell_type": "code",
   "execution_count": 31,
   "id": "80f72a3f-d8c5-4c7c-b954-675d67dfd747",
   "metadata": {},
   "outputs": [
    {
     "data": {
      "text/plain": [
       "'ABCDE'"
      ]
     },
     "execution_count": 31,
     "metadata": {},
     "output_type": "execute_result"
    }
   ],
   "source": [
    "barcode[:5:]"
   ]
  },
  {
   "cell_type": "code",
   "execution_count": 32,
   "id": "d0529eb2-da16-4e2e-a574-11256ce49f16",
   "metadata": {},
   "outputs": [
    {
     "data": {
      "text/plain": [
       "'ACE2138'"
      ]
     },
     "execution_count": 32,
     "metadata": {},
     "output_type": "execute_result"
    }
   ],
   "source": [
    "barcode[::2]"
   ]
  },
  {
   "cell_type": "code",
   "execution_count": 33,
   "id": "d493cbdc-7e2f-41ea-9d73-a9c3b61480de",
   "metadata": {},
   "outputs": [
    {
     "data": {
      "text/plain": [
       "'AD228'"
      ]
     },
     "execution_count": 33,
     "metadata": {},
     "output_type": "execute_result"
    }
   ],
   "source": [
    "barcode[::3]"
   ]
  },
  {
   "cell_type": "code",
   "execution_count": 34,
   "id": "6e89a243-f490-4d6c-a44d-39c7f8cea03a",
   "metadata": {},
   "outputs": [
    {
     "data": {
      "text/plain": [
       "'ABCDE123123982'"
      ]
     },
     "execution_count": 34,
     "metadata": {},
     "output_type": "execute_result"
    }
   ],
   "source": [
    "barcode[::]"
   ]
  },
  {
   "cell_type": "code",
   "execution_count": 36,
   "id": "54dc0441-1447-4a50-b0d8-4063d8263ea5",
   "metadata": {},
   "outputs": [
    {
     "data": {
      "text/plain": [
       "'DE'"
      ]
     },
     "execution_count": 36,
     "metadata": {},
     "output_type": "execute_result"
    }
   ],
   "source": [
    "barcode[3:5:]"
   ]
  },
  {
   "cell_type": "code",
   "execution_count": 37,
   "id": "251f62de-325f-49da-91b7-3a64305e05f3",
   "metadata": {},
   "outputs": [
    {
     "data": {
      "text/plain": [
       "'DE'"
      ]
     },
     "execution_count": 37,
     "metadata": {},
     "output_type": "execute_result"
    }
   ],
   "source": [
    "barcode[3:5]"
   ]
  },
  {
   "cell_type": "code",
   "execution_count": 38,
   "id": "dcf5dd9a-0974-4d5f-b425-7bde135c087c",
   "metadata": {},
   "outputs": [
    {
     "data": {
      "text/plain": [
       "'BD13'"
      ]
     },
     "execution_count": 38,
     "metadata": {},
     "output_type": "execute_result"
    }
   ],
   "source": [
    "barcode[1:9:2]"
   ]
  },
  {
   "cell_type": "code",
   "execution_count": 39,
   "id": "b4d9fc96-7659-4635-b41b-89fdfe2e8738",
   "metadata": {},
   "outputs": [
    {
     "data": {
      "text/plain": [
       "'289321321EDCBA'"
      ]
     },
     "execution_count": 39,
     "metadata": {},
     "output_type": "execute_result"
    }
   ],
   "source": [
    "barcode[::-1]"
   ]
  },
  {
   "cell_type": "code",
   "execution_count": 40,
   "id": "ceb43bf7-57a7-4292-b32a-58b2cd6455e4",
   "metadata": {},
   "outputs": [
    {
     "data": {
      "text/plain": [
       "'ABCDE123123982'"
      ]
     },
     "execution_count": 40,
     "metadata": {},
     "output_type": "execute_result"
    }
   ],
   "source": [
    "barcode"
   ]
  },
  {
   "cell_type": "code",
   "execution_count": 41,
   "id": "1b25bb36-9bbc-4a94-b069-7d17465921e8",
   "metadata": {},
   "outputs": [],
   "source": [
    "name = \"bilal uygur\""
   ]
  },
  {
   "cell_type": "code",
   "execution_count": 43,
   "id": "bcb66563-d2fa-446b-80d7-346fcaf8e45b",
   "metadata": {},
   "outputs": [
    {
     "name": "stdout",
     "output_type": "stream",
     "text": [
      "Help on built-in function index:\n",
      "\n",
      "index(...) method of builtins.str instance\n",
      "    S.index(sub[, start[, end]]) -> int\n",
      "\n",
      "    Return the lowest index in S where substring sub is found,\n",
      "    such that sub is contained within S[start:end].  Optional\n",
      "    arguments start and end are interpreted as in slice notation.\n",
      "\n",
      "    Raises ValueError when the substring is not found.\n",
      "\n"
     ]
    }
   ],
   "source": [
    "help(name.index)"
   ]
  },
  {
   "cell_type": "code",
   "execution_count": 46,
   "id": "761439ea-23af-4688-8d13-0874d18de9ff",
   "metadata": {},
   "outputs": [
    {
     "data": {
      "text/plain": [
       "0"
      ]
     },
     "execution_count": 46,
     "metadata": {},
     "output_type": "execute_result"
    }
   ],
   "source": [
    "name.index(\"b\")"
   ]
  },
  {
   "cell_type": "code",
   "execution_count": 47,
   "id": "09e8371d-74aa-464d-ae21-fc91f4e74fac",
   "metadata": {},
   "outputs": [
    {
     "data": {
      "text/plain": [
       "['bilal', 'uygur']"
      ]
     },
     "execution_count": 47,
     "metadata": {},
     "output_type": "execute_result"
    }
   ],
   "source": [
    "name.split()"
   ]
  },
  {
   "cell_type": "code",
   "execution_count": 48,
   "id": "2a97c312-222c-4325-9281-acf61bfa87d4",
   "metadata": {},
   "outputs": [
    {
     "data": {
      "text/plain": [
       "list"
      ]
     },
     "execution_count": 48,
     "metadata": {},
     "output_type": "execute_result"
    }
   ],
   "source": [
    "type(name.split())"
   ]
  },
  {
   "cell_type": "code",
   "execution_count": null,
   "id": "4c228ef9-d2cd-4e55-9394-ce19911133b7",
   "metadata": {},
   "outputs": [],
   "source": []
  }
 ],
 "metadata": {
  "kernelspec": {
   "display_name": "Python 3 (ipykernel)",
   "language": "python",
   "name": "python3"
  },
  "language_info": {
   "codemirror_mode": {
    "name": "ipython",
    "version": 3
   },
   "file_extension": ".py",
   "mimetype": "text/x-python",
   "name": "python",
   "nbconvert_exporter": "python",
   "pygments_lexer": "ipython3",
   "version": "3.12.4"
  }
 },
 "nbformat": 4,
 "nbformat_minor": 5
}
