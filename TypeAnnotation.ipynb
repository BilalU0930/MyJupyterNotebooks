{
 "cells": [
  {
   "cell_type": "code",
   "execution_count": 7,
   "id": "5e979b72-2a00-4532-8dcf-fa49a32fd7a9",
   "metadata": {},
   "outputs": [],
   "source": [
    "name : str = \"Bilal\"\n",
    "age : int = 30\n",
    "is_student : bool = False"
   ]
  },
  {
   "cell_type": "code",
   "execution_count": 11,
   "id": "33d7b78c-7614-46e3-8e24-cf3591e8ac0b",
   "metadata": {},
   "outputs": [],
   "source": [
    "def add_numbers(a: int, b: int) -> int:\n",
    "    return a + b"
   ]
  },
  {
   "cell_type": "code",
   "execution_count": 12,
   "id": "f8488217-cec0-45ce-a113-24f4877f2c82",
   "metadata": {},
   "outputs": [
    {
     "data": {
      "text/plain": [
       "9"
      ]
     },
     "execution_count": 12,
     "metadata": {},
     "output_type": "execute_result"
    }
   ],
   "source": [
    "add_numbers(4,5)"
   ]
  },
  {
   "cell_type": "code",
   "execution_count": 13,
   "id": "56bcf2c5-4ba2-4cf9-99ca-536214284bfb",
   "metadata": {},
   "outputs": [],
   "source": [
    "def process_value(value: int | str) -> str:\n",
    "    if isinstance(value, int):\n",
    "        return f\"processed integer: {value}\"\n",
    "    else:\n",
    "        return f\"processed string: {value}\""
   ]
  },
  {
   "cell_type": "code",
   "execution_count": 14,
   "id": "8a5bff66-d315-4c0e-94e5-a863e0149d0a",
   "metadata": {},
   "outputs": [
    {
     "data": {
      "text/plain": [
       "'processed integer: 50'"
      ]
     },
     "execution_count": 14,
     "metadata": {},
     "output_type": "execute_result"
    }
   ],
   "source": [
    "process_value(50)"
   ]
  },
  {
   "cell_type": "code",
   "execution_count": 15,
   "id": "ac46feb7-6f24-4540-9138-725cd3f82c99",
   "metadata": {},
   "outputs": [
    {
     "data": {
      "text/plain": [
       "'processed string: bilal'"
      ]
     },
     "execution_count": 15,
     "metadata": {},
     "output_type": "execute_result"
    }
   ],
   "source": [
    "process_value(\"bilal\")"
   ]
  },
  {
   "cell_type": "code",
   "execution_count": 16,
   "id": "3f9dbaed-b55c-4f9a-a3f1-5ecf7923bc49",
   "metadata": {},
   "outputs": [],
   "source": [
    "#python 3.9\n",
    "from typing import List\n",
    "\n",
    "def sum_list(numbers: List[int]) -> int:\n",
    "    return sum(numbers)"
   ]
  },
  {
   "cell_type": "code",
   "execution_count": 17,
   "id": "4c041a8a-d671-46ab-8a3b-49a25b08a76f",
   "metadata": {},
   "outputs": [],
   "source": [
    "numbers = [1,2,3,4]\n",
    "total = sum_list(numbers)"
   ]
  },
  {
   "cell_type": "code",
   "execution_count": 18,
   "id": "fefc7d36-ecb4-4c03-a627-ac0cb5b5f28c",
   "metadata": {},
   "outputs": [
    {
     "data": {
      "text/plain": [
       "10"
      ]
     },
     "execution_count": 18,
     "metadata": {},
     "output_type": "execute_result"
    }
   ],
   "source": [
    "total"
   ]
  },
  {
   "cell_type": "code",
   "execution_count": null,
   "id": "ca11894b-d592-4f89-9c0e-4496af08f197",
   "metadata": {},
   "outputs": [],
   "source": []
  }
 ],
 "metadata": {
  "kernelspec": {
   "display_name": "Python 3 (ipykernel)",
   "language": "python",
   "name": "python3"
  },
  "language_info": {
   "codemirror_mode": {
    "name": "ipython",
    "version": 3
   },
   "file_extension": ".py",
   "mimetype": "text/x-python",
   "name": "python",
   "nbconvert_exporter": "python",
   "pygments_lexer": "ipython3",
   "version": "3.12.4"
  }
 },
 "nbformat": 4,
 "nbformat_minor": 5
}
