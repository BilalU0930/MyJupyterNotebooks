{
 "cells": [
  {
   "cell_type": "code",
   "execution_count": 1,
   "id": "dd6dc9a4-0f25-4230-8de8-86d18393ab72",
   "metadata": {},
   "outputs": [],
   "source": [
    "bilalName = \"Bilal\""
   ]
  },
  {
   "cell_type": "code",
   "execution_count": 2,
   "id": "2bad7154-b32a-48c8-b256-6f58095428ee",
   "metadata": {},
   "outputs": [],
   "source": [
    "bilalAge = 90"
   ]
  },
  {
   "cell_type": "code",
   "execution_count": 3,
   "id": "1c06ff18-3a72-41b9-85ae-b66cb974f9bb",
   "metadata": {},
   "outputs": [],
   "source": [
    "bilalGendder = \"Male\""
   ]
  },
  {
   "cell_type": "code",
   "execution_count": 4,
   "id": "3028ffcd-ea69-457d-9f9b-a479f140e864",
   "metadata": {},
   "outputs": [],
   "source": [
    "atlasName = \"Atlas\""
   ]
  },
  {
   "cell_type": "code",
   "execution_count": 5,
   "id": "3f9925cc-6d01-4b54-9b82-369179e2bade",
   "metadata": {},
   "outputs": [],
   "source": [
    "atlasAge = 10"
   ]
  },
  {
   "cell_type": "code",
   "execution_count": 6,
   "id": "46a44857-01c5-415d-86be-3c725494e460",
   "metadata": {},
   "outputs": [],
   "source": [
    "atlasGender = \"Male\""
   ]
  },
  {
   "cell_type": "code",
   "execution_count": 7,
   "id": "1f361699-86d2-4740-9299-758ba9c380a5",
   "metadata": {},
   "outputs": [],
   "source": [
    "class Person():\n",
    "    #property\n",
    "    #name = \"\"\n",
    "    #age = 0\n",
    "    #gender = \"\"\n",
    "    job = \"\"\n",
    "\n",
    "    #initializer method\n",
    "    def __init__(self, name, age, gender):\n",
    "        self.name = name\n",
    "        self.age = age\n",
    "        self.gender = gender\n",
    "\n",
    "    #method\n",
    "    def printName(self):\n",
    "        print(self.name)"
   ]
  },
  {
   "cell_type": "code",
   "execution_count": 8,
   "id": "5e028edb-bf3c-40b1-b1eb-9cd2781769ca",
   "metadata": {},
   "outputs": [],
   "source": [
    "bilal = Person(\"Bilal\", 12, \"Male\")"
   ]
  },
  {
   "cell_type": "code",
   "execution_count": 9,
   "id": "0fd9e622-8220-4336-9581-7b68d9c05c4c",
   "metadata": {},
   "outputs": [
    {
     "data": {
      "text/plain": [
       "__main__.Person"
      ]
     },
     "execution_count": 9,
     "metadata": {},
     "output_type": "execute_result"
    }
   ],
   "source": [
    "type(bilal)"
   ]
  },
  {
   "cell_type": "code",
   "execution_count": 10,
   "id": "3f37180e-f162-4819-accd-eb73af8a153a",
   "metadata": {},
   "outputs": [
    {
     "data": {
      "text/plain": [
       "'Bilal'"
      ]
     },
     "execution_count": 10,
     "metadata": {},
     "output_type": "execute_result"
    }
   ],
   "source": [
    "bilal.name"
   ]
  },
  {
   "cell_type": "code",
   "execution_count": 11,
   "id": "5cce332c-3836-47b8-9cb4-1be153b49988",
   "metadata": {},
   "outputs": [
    {
     "data": {
      "text/plain": [
       "12"
      ]
     },
     "execution_count": 11,
     "metadata": {},
     "output_type": "execute_result"
    }
   ],
   "source": [
    "bilal.age"
   ]
  },
  {
   "cell_type": "code",
   "execution_count": 12,
   "id": "009ba4e0-b571-4972-bfb3-6f63f68dd432",
   "metadata": {},
   "outputs": [
    {
     "data": {
      "text/plain": [
       "'Male'"
      ]
     },
     "execution_count": 12,
     "metadata": {},
     "output_type": "execute_result"
    }
   ],
   "source": [
    "bilal.gender"
   ]
  },
  {
   "cell_type": "code",
   "execution_count": 13,
   "id": "177042aa-ef9e-4a39-83b3-ee3e9a38ec4f",
   "metadata": {},
   "outputs": [
    {
     "name": "stdout",
     "output_type": "stream",
     "text": [
      "Bilal\n"
     ]
    }
   ],
   "source": [
    "bilal.printName()"
   ]
  },
  {
   "cell_type": "code",
   "execution_count": 14,
   "id": "6c331539-be9f-49fa-882c-1f02349714de",
   "metadata": {},
   "outputs": [
    {
     "data": {
      "text/plain": [
       "''"
      ]
     },
     "execution_count": 14,
     "metadata": {},
     "output_type": "execute_result"
    }
   ],
   "source": [
    "bilal.job"
   ]
  },
  {
   "cell_type": "code",
   "execution_count": 15,
   "id": "94731daf-0377-4635-aad7-57cf9325eebd",
   "metadata": {},
   "outputs": [],
   "source": [
    "bilal.job = \"developer\""
   ]
  },
  {
   "cell_type": "code",
   "execution_count": 16,
   "id": "1db97315-6c59-43bf-950e-7bd83bc6a6d3",
   "metadata": {},
   "outputs": [
    {
     "data": {
      "text/plain": [
       "'developer'"
      ]
     },
     "execution_count": 16,
     "metadata": {},
     "output_type": "execute_result"
    }
   ],
   "source": [
    "bilal.job"
   ]
  },
  {
   "cell_type": "code",
   "execution_count": 45,
   "id": "53c63914-cfa2-4879-94ce-72c292833dc8",
   "metadata": {},
   "outputs": [],
   "source": [
    "class Dog():\n",
    "\n",
    "    year = 7\n",
    "\n",
    "    def __init__(self, age = 5):\n",
    "        self.age = age\n",
    "        self.dogHumanAge = age * self.year\n",
    "        print(\"dog instance\")\n",
    "\n",
    "    def humanAge(self):\n",
    "        return self.age * Dog.year #Dog.year -> self.year"
   ]
  },
  {
   "cell_type": "code",
   "execution_count": 46,
   "id": "3b4ae0eb-a0b9-4505-8e06-5274c4326230",
   "metadata": {},
   "outputs": [
    {
     "name": "stdout",
     "output_type": "stream",
     "text": [
      "dog instance\n"
     ]
    }
   ],
   "source": [
    "myDog = Dog(3)"
   ]
  },
  {
   "cell_type": "code",
   "execution_count": 47,
   "id": "1a45d989-ee13-46ab-8cf7-13218cde2128",
   "metadata": {},
   "outputs": [
    {
     "data": {
      "text/plain": [
       "3"
      ]
     },
     "execution_count": 47,
     "metadata": {},
     "output_type": "execute_result"
    }
   ],
   "source": [
    "myDog.age"
   ]
  },
  {
   "cell_type": "code",
   "execution_count": 48,
   "id": "c1ead9e6-6898-4f87-9883-efe1f5a5ba43",
   "metadata": {},
   "outputs": [
    {
     "data": {
      "text/plain": [
       "21"
      ]
     },
     "execution_count": 48,
     "metadata": {},
     "output_type": "execute_result"
    }
   ],
   "source": [
    "myDog.humanAge()"
   ]
  },
  {
   "cell_type": "code",
   "execution_count": 49,
   "id": "4a6ac865-9e88-4431-b936-33d2434136c2",
   "metadata": {},
   "outputs": [
    {
     "data": {
      "text/plain": [
       "21"
      ]
     },
     "execution_count": 49,
     "metadata": {},
     "output_type": "execute_result"
    }
   ],
   "source": [
    "myDog.dogHumanAge"
   ]
  },
  {
   "cell_type": "code",
   "execution_count": 50,
   "id": "44fe6612-2998-4ded-b53d-608886f8aae0",
   "metadata": {},
   "outputs": [
    {
     "name": "stdout",
     "output_type": "stream",
     "text": [
      "dog instance\n"
     ]
    }
   ],
   "source": [
    "barley = Dog()"
   ]
  },
  {
   "cell_type": "code",
   "execution_count": 51,
   "id": "ad88bf0c-c227-4ee7-b816-3967d3907339",
   "metadata": {},
   "outputs": [
    {
     "data": {
      "text/plain": [
       "35"
      ]
     },
     "execution_count": 51,
     "metadata": {},
     "output_type": "execute_result"
    }
   ],
   "source": [
    "barley.dogHumanAge"
   ]
  },
  {
   "cell_type": "code",
   "execution_count": null,
   "id": "5b467419-9671-4ffa-8696-dedac74af8ce",
   "metadata": {},
   "outputs": [],
   "source": []
  }
 ],
 "metadata": {
  "kernelspec": {
   "display_name": "Python 3 (ipykernel)",
   "language": "python",
   "name": "python3"
  },
  "language_info": {
   "codemirror_mode": {
    "name": "ipython",
    "version": 3
   },
   "file_extension": ".py",
   "mimetype": "text/x-python",
   "name": "python",
   "nbconvert_exporter": "python",
   "pygments_lexer": "ipython3",
   "version": "3.12.4"
  }
 },
 "nbformat": 4,
 "nbformat_minor": 5
}
