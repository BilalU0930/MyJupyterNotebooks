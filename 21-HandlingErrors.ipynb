{
 "cells": [
  {
   "cell_type": "code",
   "execution_count": 1,
   "id": "729ace68-60c0-4af0-b1e6-07f27226f3de",
   "metadata": {},
   "outputs": [
    {
     "name": "stdin",
     "output_type": "stream",
     "text": [
      "enter age:  12\n"
     ]
    }
   ],
   "source": [
    "age = input(\"enter age: \")"
   ]
  },
  {
   "cell_type": "code",
   "execution_count": 2,
   "id": "abb7b8b3-c6dc-4507-ba71-4ddfcb51aa43",
   "metadata": {},
   "outputs": [
    {
     "data": {
      "text/plain": [
       "'12'"
      ]
     },
     "execution_count": 2,
     "metadata": {},
     "output_type": "execute_result"
    }
   ],
   "source": [
    "age"
   ]
  },
  {
   "cell_type": "code",
   "execution_count": 3,
   "id": "d7bc058e-f503-4238-842f-05aabef86ee7",
   "metadata": {},
   "outputs": [
    {
     "data": {
      "text/plain": [
       "24"
      ]
     },
     "execution_count": 3,
     "metadata": {},
     "output_type": "execute_result"
    }
   ],
   "source": [
    "int(age) * 2"
   ]
  },
  {
   "cell_type": "code",
   "execution_count": 4,
   "id": "1b7f50d7-70a2-45ad-b8ba-848ed8d007bf",
   "metadata": {},
   "outputs": [],
   "source": [
    "# try - except"
   ]
  },
  {
   "cell_type": "code",
   "execution_count": 12,
   "id": "edbdbe89-fea4-4aa2-8ef8-6a7079747a89",
   "metadata": {},
   "outputs": [
    {
     "name": "stdin",
     "output_type": "stream",
     "text": [
      "enter age:  bilal\n"
     ]
    },
    {
     "name": "stdout",
     "output_type": "stream",
     "text": [
      "enter your age!!!\n",
      "finally\n"
     ]
    },
    {
     "name": "stdin",
     "output_type": "stream",
     "text": [
      "enter age:  12\n"
     ]
    },
    {
     "name": "stdout",
     "output_type": "stream",
     "text": [
      "24\n",
      "else executed\n",
      "finally\n"
     ]
    }
   ],
   "source": [
    "while True:\n",
    "    try:\n",
    "        myAge = int(input(\"enter age: \"))\n",
    "        print(myAge * 2)\n",
    "        #break\n",
    "    except:\n",
    "        print(\"enter your age!!!\")\n",
    "    else:\n",
    "        print(\"else executed\")\n",
    "        break\n",
    "    finally:\n",
    "        print(\"finally\")"
   ]
  },
  {
   "cell_type": "code",
   "execution_count": null,
   "id": "575c1641-759c-48c6-8d4b-9c9af0a4aeea",
   "metadata": {},
   "outputs": [],
   "source": []
  }
 ],
 "metadata": {
  "kernelspec": {
   "display_name": "Python 3 (ipykernel)",
   "language": "python",
   "name": "python3"
  },
  "language_info": {
   "codemirror_mode": {
    "name": "ipython",
    "version": 3
   },
   "file_extension": ".py",
   "mimetype": "text/x-python",
   "name": "python",
   "nbconvert_exporter": "python",
   "pygments_lexer": "ipython3",
   "version": "3.12.4"
  }
 },
 "nbformat": 4,
 "nbformat_minor": 5
}
