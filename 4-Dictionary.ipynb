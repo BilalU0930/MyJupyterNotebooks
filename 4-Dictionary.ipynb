{
 "cells": [
  {
   "cell_type": "code",
   "execution_count": 1,
   "id": "4ce7f6ea-4965-47a4-9b70-ced1b24ff191",
   "metadata": {},
   "outputs": [],
   "source": [
    "#key - value pairinng"
   ]
  },
  {
   "cell_type": "code",
   "execution_count": 2,
   "id": "c85b3e5d-7d02-493f-ab98-d3708c97a053",
   "metadata": {},
   "outputs": [],
   "source": [
    "fruit_list = [\"banana\", \"apple\"]"
   ]
  },
  {
   "cell_type": "code",
   "execution_count": 3,
   "id": "597a3cf9-4338-42f5-820d-61e329f8344a",
   "metadata": {},
   "outputs": [],
   "source": [
    "calorie_list = [100, 150]"
   ]
  },
  {
   "cell_type": "code",
   "execution_count": 4,
   "id": "2d68c05f-6ffc-45c2-b20e-76dba8a68f30",
   "metadata": {},
   "outputs": [
    {
     "data": {
      "text/plain": [
       "'banana'"
      ]
     },
     "execution_count": 4,
     "metadata": {},
     "output_type": "execute_result"
    }
   ],
   "source": [
    "fruit_list[0]"
   ]
  },
  {
   "cell_type": "code",
   "execution_count": 5,
   "id": "bd8c4a72-d757-483f-978c-dbe903ffd9ca",
   "metadata": {},
   "outputs": [
    {
     "data": {
      "text/plain": [
       "100"
      ]
     },
     "execution_count": 5,
     "metadata": {},
     "output_type": "execute_result"
    }
   ],
   "source": [
    "calorie_list[0]"
   ]
  },
  {
   "cell_type": "code",
   "execution_count": 6,
   "id": "9a83e5c6-65cd-403c-b57a-9979dbc546d6",
   "metadata": {},
   "outputs": [],
   "source": [
    "fitness_dictionary = {\"banana\":100, \"apple\":150}"
   ]
  },
  {
   "cell_type": "code",
   "execution_count": 8,
   "id": "8c24c7c5-09b5-4c62-a722-663c4c901419",
   "metadata": {},
   "outputs": [
    {
     "data": {
      "text/plain": [
       "dict"
      ]
     },
     "execution_count": 8,
     "metadata": {},
     "output_type": "execute_result"
    }
   ],
   "source": [
    "type(fitness_dictionary)"
   ]
  },
  {
   "cell_type": "code",
   "execution_count": 10,
   "id": "aee7dd1f-6b7c-48eb-8cc0-fba3ab6e40c0",
   "metadata": {},
   "outputs": [
    {
     "data": {
      "text/plain": [
       "100"
      ]
     },
     "execution_count": 10,
     "metadata": {},
     "output_type": "execute_result"
    }
   ],
   "source": [
    "fitness_dictionary[\"banana\"]"
   ]
  },
  {
   "cell_type": "code",
   "execution_count": 11,
   "id": "57084e37-c8df-4ea7-9a90-46634f751c27",
   "metadata": {},
   "outputs": [
    {
     "data": {
      "text/plain": [
       "150"
      ]
     },
     "execution_count": 11,
     "metadata": {},
     "output_type": "execute_result"
    }
   ],
   "source": [
    "fitness_dictionary[\"apple\"]"
   ]
  },
  {
   "cell_type": "code",
   "execution_count": 12,
   "id": "c35a4b1f-dcb3-46e2-acfd-eeb5847cf717",
   "metadata": {},
   "outputs": [
    {
     "data": {
      "text/plain": [
       "dict_keys(['banana', 'apple'])"
      ]
     },
     "execution_count": 12,
     "metadata": {},
     "output_type": "execute_result"
    }
   ],
   "source": [
    "fitness_dictionary.keys()"
   ]
  },
  {
   "cell_type": "code",
   "execution_count": 13,
   "id": "3d66fd12-60bf-4df8-b6ce-2595c5ae64be",
   "metadata": {},
   "outputs": [
    {
     "data": {
      "text/plain": [
       "dict_values([100, 150])"
      ]
     },
     "execution_count": 13,
     "metadata": {},
     "output_type": "execute_result"
    }
   ],
   "source": [
    "fitness_dictionary.values()"
   ]
  },
  {
   "cell_type": "code",
   "execution_count": 14,
   "id": "50653987-5f03-409f-bac7-7c9584481611",
   "metadata": {},
   "outputs": [
    {
     "data": {
      "text/plain": [
       "dict_values"
      ]
     },
     "execution_count": 14,
     "metadata": {},
     "output_type": "execute_result"
    }
   ],
   "source": [
    "type(fitness_dictionary.values())"
   ]
  },
  {
   "cell_type": "code",
   "execution_count": 16,
   "id": "483d9a9e-fe07-4c89-9589-7ef9e374cc10",
   "metadata": {},
   "outputs": [
    {
     "data": {
      "text/plain": [
       "[100, 150]"
      ]
     },
     "execution_count": 16,
     "metadata": {},
     "output_type": "execute_result"
    }
   ],
   "source": [
    "list(fitness_dictionary.values())"
   ]
  },
  {
   "cell_type": "code",
   "execution_count": 17,
   "id": "063c3daf-b81a-4141-b9a4-d0d7924fdedf",
   "metadata": {},
   "outputs": [
    {
     "data": {
      "text/plain": [
       "{'banana': 100, 'apple': 150}"
      ]
     },
     "execution_count": 17,
     "metadata": {},
     "output_type": "execute_result"
    }
   ],
   "source": [
    "fitness_dictionary"
   ]
  },
  {
   "cell_type": "code",
   "execution_count": 19,
   "id": "c5a741f5-348d-44c3-9201-88095f4fc316",
   "metadata": {},
   "outputs": [],
   "source": [
    "fitness_dictionary[\"banana\"] = 200"
   ]
  },
  {
   "cell_type": "code",
   "execution_count": 20,
   "id": "c924912b-4e04-4cdf-b316-b88f81524cca",
   "metadata": {},
   "outputs": [
    {
     "data": {
      "text/plain": [
       "{'banana': 200, 'apple': 150}"
      ]
     },
     "execution_count": 20,
     "metadata": {},
     "output_type": "execute_result"
    }
   ],
   "source": [
    "fitness_dictionary"
   ]
  },
  {
   "cell_type": "code",
   "execution_count": 22,
   "id": "c33a022e-a435-4598-aa71-912bc4ea7c9f",
   "metadata": {},
   "outputs": [],
   "source": [
    "fitness_dictionary[\"melon\"] = 300"
   ]
  },
  {
   "cell_type": "code",
   "execution_count": 23,
   "id": "3ee6b879-5b1f-40a1-b30f-347fb1659cf7",
   "metadata": {},
   "outputs": [
    {
     "data": {
      "text/plain": [
       "{'banana': 200, 'apple': 150, 'melon': 300}"
      ]
     },
     "execution_count": 23,
     "metadata": {},
     "output_type": "execute_result"
    }
   ],
   "source": [
    "fitness_dictionary"
   ]
  },
  {
   "cell_type": "code",
   "execution_count": 25,
   "id": "b1a860bc-9796-432d-93f2-b30f0af5c3b2",
   "metadata": {},
   "outputs": [
    {
     "data": {
      "text/plain": [
       "150"
      ]
     },
     "execution_count": 25,
     "metadata": {},
     "output_type": "execute_result"
    }
   ],
   "source": [
    "fitness_dictionary[\"apple\"]"
   ]
  },
  {
   "cell_type": "code",
   "execution_count": 28,
   "id": "bdd05e64-6824-4b3b-b80d-3aec73d05c21",
   "metadata": {},
   "outputs": [
    {
     "name": "stdout",
     "output_type": "stream",
     "text": [
      "Help on built-in function get:\n",
      "\n",
      "get(key, default=None, /) method of builtins.dict instance\n",
      "    Return the value for key if key is in the dictionary, else default.\n",
      "\n"
     ]
    }
   ],
   "source": [
    "help(fitness_dictionary.get)"
   ]
  },
  {
   "cell_type": "code",
   "execution_count": 30,
   "id": "79d36a9c-c4d8-4ab3-b2c2-07246dee1139",
   "metadata": {},
   "outputs": [
    {
     "data": {
      "text/plain": [
       "0"
      ]
     },
     "execution_count": 30,
     "metadata": {},
     "output_type": "execute_result"
    }
   ],
   "source": [
    "fitness_dictionary.get(\"appl\", 0)"
   ]
  },
  {
   "cell_type": "code",
   "execution_count": 31,
   "id": "c5ecd583-7e9b-4349-972c-345990058449",
   "metadata": {},
   "outputs": [
    {
     "data": {
      "text/plain": [
       "{'banana': 200, 'apple': 150, 'melon': 300}"
      ]
     },
     "execution_count": 31,
     "metadata": {},
     "output_type": "execute_result"
    }
   ],
   "source": [
    "fitness_dictionary"
   ]
  },
  {
   "cell_type": "code",
   "execution_count": 32,
   "id": "3ebb68fc-a54c-422a-a23f-5136361bef98",
   "metadata": {},
   "outputs": [],
   "source": [
    "my_dictionary = {100:\"a\", 200:\"b\", 300:\"c\"}"
   ]
  },
  {
   "cell_type": "code",
   "execution_count": 33,
   "id": "99b0e59e-b9bf-469f-a3d1-fa768b896607",
   "metadata": {},
   "outputs": [
    {
     "data": {
      "text/plain": [
       "'a'"
      ]
     },
     "execution_count": 33,
     "metadata": {},
     "output_type": "execute_result"
    }
   ],
   "source": [
    "my_dictionary[100]"
   ]
  },
  {
   "cell_type": "code",
   "execution_count": 34,
   "id": "1191f7a5-99ad-426c-b092-33d308ee7bdc",
   "metadata": {},
   "outputs": [
    {
     "data": {
      "text/plain": [
       "'b'"
      ]
     },
     "execution_count": 34,
     "metadata": {},
     "output_type": "execute_result"
    }
   ],
   "source": [
    "my_dictionary[200]"
   ]
  },
  {
   "cell_type": "code",
   "execution_count": 35,
   "id": "884581cb-ef79-40e2-9c17-2353228f04d7",
   "metadata": {},
   "outputs": [],
   "source": [
    "my_dictionary = {\"key1\":\"value1\", \"key2\":\"value2\", \"key3\":\"value3\"}"
   ]
  },
  {
   "cell_type": "code",
   "execution_count": 36,
   "id": "08014ed3-e9d4-46ef-8490-801db7b65534",
   "metadata": {},
   "outputs": [
    {
     "data": {
      "text/plain": [
       "'value1'"
      ]
     },
     "execution_count": 36,
     "metadata": {},
     "output_type": "execute_result"
    }
   ],
   "source": [
    "my_dictionary[\"key1\"]"
   ]
  },
  {
   "cell_type": "code",
   "execution_count": 37,
   "id": "fad1df4d-abea-44d1-a8f0-93c4ba1f40db",
   "metadata": {},
   "outputs": [],
   "source": [
    "my_mixed_dictionary = {\"key1\":100, \"key2\":3.14, \"key3\":[10,20,30]}"
   ]
  },
  {
   "cell_type": "code",
   "execution_count": 45,
   "id": "dd8b1dc5-4f53-47b1-b7a2-513178b752d1",
   "metadata": {},
   "outputs": [
    {
     "data": {
      "text/plain": [
       "20"
      ]
     },
     "execution_count": 45,
     "metadata": {},
     "output_type": "execute_result"
    }
   ],
   "source": [
    "my_mixed_dictionary[\"key3\"][1]"
   ]
  },
  {
   "cell_type": "code",
   "execution_count": 46,
   "id": "6087ddd0-e533-4354-aec1-5511703080c6",
   "metadata": {},
   "outputs": [],
   "source": [
    "last_dictionary = {\"k1\":10, \"k2\":[10,20,30,40,50], \"k3\":\"string\", \"k4\":{\"a\":100, \"b\":200}}"
   ]
  },
  {
   "cell_type": "code",
   "execution_count": 58,
   "id": "c166a1b2-6939-4320-b861-1b6bb8c745a0",
   "metadata": {},
   "outputs": [
    {
     "data": {
      "text/plain": [
       "200"
      ]
     },
     "execution_count": 58,
     "metadata": {},
     "output_type": "execute_result"
    }
   ],
   "source": [
    "last_dictionary[\"k4\"][\"b\"]"
   ]
  },
  {
   "cell_type": "code",
   "execution_count": 57,
   "id": "b6fb00ba-7663-401b-a567-0bd3f6d03eac",
   "metadata": {},
   "outputs": [
    {
     "data": {
      "text/plain": [
       "40"
      ]
     },
     "execution_count": 57,
     "metadata": {},
     "output_type": "execute_result"
    }
   ],
   "source": [
    "last_dictionary[\"k2\"][3]"
   ]
  },
  {
   "cell_type": "code",
   "execution_count": null,
   "id": "15e5c4a4-6bf9-4d0f-9b06-6cb2cf4a1c8c",
   "metadata": {},
   "outputs": [],
   "source": []
  }
 ],
 "metadata": {
  "kernelspec": {
   "display_name": "Python 3 (ipykernel)",
   "language": "python",
   "name": "python3"
  },
  "language_info": {
   "codemirror_mode": {
    "name": "ipython",
    "version": 3
   },
   "file_extension": ".py",
   "mimetype": "text/x-python",
   "name": "python",
   "nbconvert_exporter": "python",
   "pygments_lexer": "ipython3",
   "version": "3.12.4"
  }
 },
 "nbformat": 4,
 "nbformat_minor": 5
}
