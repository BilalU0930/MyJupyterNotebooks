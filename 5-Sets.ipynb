{
 "cells": [
  {
   "cell_type": "code",
   "execution_count": 1,
   "id": "ab191fbb-36ff-428c-8e5f-85010f54d7c5",
   "metadata": {},
   "outputs": [],
   "source": [
    "#unique elements, unordered"
   ]
  },
  {
   "cell_type": "code",
   "execution_count": 2,
   "id": "0a8a314d-7370-4484-aefb-2c8babb064bc",
   "metadata": {},
   "outputs": [],
   "source": [
    "myList = [10,20,30,10,20,40,10,20,40]"
   ]
  },
  {
   "cell_type": "code",
   "execution_count": 3,
   "id": "cc432a18-ae37-4b6c-8f66-bb3c700f814b",
   "metadata": {},
   "outputs": [
    {
     "data": {
      "text/plain": [
       "9"
      ]
     },
     "execution_count": 3,
     "metadata": {},
     "output_type": "execute_result"
    }
   ],
   "source": [
    "len(myList)"
   ]
  },
  {
   "cell_type": "code",
   "execution_count": 4,
   "id": "1982d9c5-9c78-4b2e-947b-6857bd39d2d0",
   "metadata": {},
   "outputs": [
    {
     "data": {
      "text/plain": [
       "[10, 20, 30, 10, 20, 40, 10, 20, 40]"
      ]
     },
     "execution_count": 4,
     "metadata": {},
     "output_type": "execute_result"
    }
   ],
   "source": [
    "myList"
   ]
  },
  {
   "cell_type": "code",
   "execution_count": 5,
   "id": "ca58f9cc-808e-4d6c-a226-c882cb38ebd9",
   "metadata": {},
   "outputs": [],
   "source": [
    "mySet = set(myList)"
   ]
  },
  {
   "cell_type": "code",
   "execution_count": 6,
   "id": "a9ed989c-c6c0-4e35-b2f2-60eb86c0fbc4",
   "metadata": {},
   "outputs": [
    {
     "data": {
      "text/plain": [
       "{10, 20, 30, 40}"
      ]
     },
     "execution_count": 6,
     "metadata": {},
     "output_type": "execute_result"
    }
   ],
   "source": [
    "mySet"
   ]
  },
  {
   "cell_type": "code",
   "execution_count": 7,
   "id": "da72b3c8-78b3-4309-951f-006e2af859ae",
   "metadata": {},
   "outputs": [],
   "source": [
    "mySet = {10,20,30,10,20,40,10,20,40}"
   ]
  },
  {
   "cell_type": "code",
   "execution_count": 8,
   "id": "9d5110d8-2a93-4d07-a52c-25ebc85a8009",
   "metadata": {},
   "outputs": [
    {
     "data": {
      "text/plain": [
       "{10, 20, 30, 40}"
      ]
     },
     "execution_count": 8,
     "metadata": {},
     "output_type": "execute_result"
    }
   ],
   "source": [
    "mySet"
   ]
  },
  {
   "cell_type": "code",
   "execution_count": 9,
   "id": "14294251-a04d-4f4c-a9ce-4c95d4567316",
   "metadata": {},
   "outputs": [],
   "source": [
    "mySet.add(10)"
   ]
  },
  {
   "cell_type": "code",
   "execution_count": 10,
   "id": "61e6dfed-85cd-45a4-bbcf-7ad5574fb93d",
   "metadata": {},
   "outputs": [
    {
     "data": {
      "text/plain": [
       "{10, 20, 30, 40}"
      ]
     },
     "execution_count": 10,
     "metadata": {},
     "output_type": "execute_result"
    }
   ],
   "source": [
    "mySet"
   ]
  },
  {
   "cell_type": "code",
   "execution_count": 11,
   "id": "c2b6d232-3891-4a6a-9ec8-11250d8f8071",
   "metadata": {},
   "outputs": [],
   "source": [
    "mySet.add(50)"
   ]
  },
  {
   "cell_type": "code",
   "execution_count": 12,
   "id": "d1506453-11d3-45d6-9afb-25c1042781a4",
   "metadata": {},
   "outputs": [
    {
     "data": {
      "text/plain": [
       "{10, 20, 30, 40, 50}"
      ]
     },
     "execution_count": 12,
     "metadata": {},
     "output_type": "execute_result"
    }
   ],
   "source": [
    "mySet"
   ]
  },
  {
   "cell_type": "code",
   "execution_count": 16,
   "id": "89af84ea-c243-45d6-8984-02b98b69a444",
   "metadata": {},
   "outputs": [],
   "source": [
    "mySet2 = {30, 40, 50, 60, 70}"
   ]
  },
  {
   "cell_type": "code",
   "execution_count": 17,
   "id": "90dd0461-fb43-4701-ab96-781afdd28cbd",
   "metadata": {},
   "outputs": [
    {
     "data": {
      "text/plain": [
       "{10, 20, 30, 40, 50}"
      ]
     },
     "execution_count": 17,
     "metadata": {},
     "output_type": "execute_result"
    }
   ],
   "source": [
    "mySet"
   ]
  },
  {
   "cell_type": "code",
   "execution_count": 19,
   "id": "f409f7a5-7870-450b-8b8b-1b0bd4059549",
   "metadata": {},
   "outputs": [
    {
     "data": {
      "text/plain": [
       "{30, 40, 50, 60, 70}"
      ]
     },
     "execution_count": 19,
     "metadata": {},
     "output_type": "execute_result"
    }
   ],
   "source": [
    "mySet2"
   ]
  },
  {
   "cell_type": "code",
   "execution_count": 20,
   "id": "96ea9225-d985-40d8-b004-8e8fa43c192f",
   "metadata": {},
   "outputs": [
    {
     "data": {
      "text/plain": [
       "{10, 20, 30, 40, 50, 60, 70}"
      ]
     },
     "execution_count": 20,
     "metadata": {},
     "output_type": "execute_result"
    }
   ],
   "source": [
    "mySet.union(mySet2)"
   ]
  },
  {
   "cell_type": "code",
   "execution_count": 21,
   "id": "fef24a59-34cf-4089-8d38-4809a13204e4",
   "metadata": {},
   "outputs": [
    {
     "data": {
      "text/plain": [
       "{30, 40, 50}"
      ]
     },
     "execution_count": 21,
     "metadata": {},
     "output_type": "execute_result"
    }
   ],
   "source": [
    "mySet.intersection(mySet2)"
   ]
  },
  {
   "cell_type": "code",
   "execution_count": 22,
   "id": "bb9c19bb-c7b0-4291-9eda-6a0a518e252f",
   "metadata": {},
   "outputs": [],
   "source": [
    "countryList = [\"de\",\"fr\",\"tr\",\"fr\",\"tr\",\"tr\",\"de\",\"nl\",\"de\",\"tr\"]"
   ]
  },
  {
   "cell_type": "code",
   "execution_count": 23,
   "id": "ff381d64-c060-4e7a-9b58-bf26c09d041d",
   "metadata": {},
   "outputs": [
    {
     "data": {
      "text/plain": [
       "10"
      ]
     },
     "execution_count": 23,
     "metadata": {},
     "output_type": "execute_result"
    }
   ],
   "source": [
    "len(countryList)"
   ]
  },
  {
   "cell_type": "code",
   "execution_count": 25,
   "id": "2d0f847e-5014-4325-9d07-8024abcb2db6",
   "metadata": {},
   "outputs": [
    {
     "data": {
      "text/plain": [
       "4"
      ]
     },
     "execution_count": 25,
     "metadata": {},
     "output_type": "execute_result"
    }
   ],
   "source": [
    "len(set(countryList))"
   ]
  },
  {
   "cell_type": "code",
   "execution_count": 26,
   "id": "3a731f82-cbf6-4a6c-834a-c701e7fb0518",
   "metadata": {},
   "outputs": [],
   "source": [
    "emptyList = []"
   ]
  },
  {
   "cell_type": "code",
   "execution_count": 27,
   "id": "63cd4fd7-c61c-4cde-9a17-6cfba1569af8",
   "metadata": {},
   "outputs": [],
   "source": [
    "emptyList.append(10)\n",
    "emptyList.append(20)\n",
    "emptyList.append(30)"
   ]
  },
  {
   "cell_type": "code",
   "execution_count": 28,
   "id": "420a1f89-9dd6-4df7-a5fc-98ca4ac0f73d",
   "metadata": {},
   "outputs": [
    {
     "data": {
      "text/plain": [
       "[10, 20, 30]"
      ]
     },
     "execution_count": 28,
     "metadata": {},
     "output_type": "execute_result"
    }
   ],
   "source": [
    "emptyList"
   ]
  },
  {
   "cell_type": "code",
   "execution_count": 29,
   "id": "c230fd1f-25fb-4a90-830d-0892623b34d2",
   "metadata": {},
   "outputs": [],
   "source": [
    "emptySet = {}"
   ]
  },
  {
   "cell_type": "code",
   "execution_count": 30,
   "id": "a82545d5-e3c4-405e-a155-76d7a4fe7c12",
   "metadata": {},
   "outputs": [
    {
     "data": {
      "text/plain": [
       "dict"
      ]
     },
     "execution_count": 30,
     "metadata": {},
     "output_type": "execute_result"
    }
   ],
   "source": [
    "type(emptySet)"
   ]
  },
  {
   "cell_type": "code",
   "execution_count": 31,
   "id": "2f0cb8b9-a643-49a1-b45d-c09ff4895028",
   "metadata": {},
   "outputs": [],
   "source": [
    "emptySet = set()"
   ]
  },
  {
   "cell_type": "code",
   "execution_count": 32,
   "id": "3154d0a6-e607-4d7b-b874-bbe4b49afad1",
   "metadata": {},
   "outputs": [
    {
     "data": {
      "text/plain": [
       "set"
      ]
     },
     "execution_count": 32,
     "metadata": {},
     "output_type": "execute_result"
    }
   ],
   "source": [
    "type(emptySet)"
   ]
  },
  {
   "cell_type": "code",
   "execution_count": 33,
   "id": "69100b70-c4fc-4a0d-8504-98132c227276",
   "metadata": {},
   "outputs": [
    {
     "data": {
      "text/plain": [
       "0"
      ]
     },
     "execution_count": 33,
     "metadata": {},
     "output_type": "execute_result"
    }
   ],
   "source": [
    "len(emptySet)"
   ]
  },
  {
   "cell_type": "code",
   "execution_count": 34,
   "id": "8747f814-1278-4856-a5dd-81cf806495aa",
   "metadata": {},
   "outputs": [],
   "source": [
    "emptySet.add(10)\n",
    "emptySet.add(10)\n",
    "emptySet.add(10)\n",
    "emptySet.add(20)\n",
    "emptySet.add(30)"
   ]
  },
  {
   "cell_type": "code",
   "execution_count": 35,
   "id": "e68fca83-3a0d-4c4b-86b9-ca2909a5e55c",
   "metadata": {},
   "outputs": [
    {
     "data": {
      "text/plain": [
       "{10, 20, 30}"
      ]
     },
     "execution_count": 35,
     "metadata": {},
     "output_type": "execute_result"
    }
   ],
   "source": [
    "emptySet"
   ]
  },
  {
   "cell_type": "code",
   "execution_count": 36,
   "id": "dc227cd8-9e2c-49c1-920e-11f7f18c683a",
   "metadata": {},
   "outputs": [],
   "source": [
    "emptyList = list()"
   ]
  },
  {
   "cell_type": "code",
   "execution_count": 37,
   "id": "2066a0d2-9203-4498-a2e9-2d629a808c94",
   "metadata": {},
   "outputs": [],
   "source": [
    "emptyList.append(10)\n",
    "emptyList.append(20)\n",
    "emptyList.append(30)"
   ]
  },
  {
   "cell_type": "code",
   "execution_count": 38,
   "id": "e0b43604-af4d-4af4-b704-e1a27f77b932",
   "metadata": {},
   "outputs": [
    {
     "data": {
      "text/plain": [
       "[10, 20, 30]"
      ]
     },
     "execution_count": 38,
     "metadata": {},
     "output_type": "execute_result"
    }
   ],
   "source": [
    "emptyList"
   ]
  },
  {
   "cell_type": "code",
   "execution_count": 39,
   "id": "0586069f-dc85-4880-9436-fc22daa00caa",
   "metadata": {},
   "outputs": [],
   "source": [
    "emptyDictionary = dict()"
   ]
  },
  {
   "cell_type": "code",
   "execution_count": 40,
   "id": "425ae4d8-a888-41ea-8f71-125b2274ba10",
   "metadata": {},
   "outputs": [],
   "source": [
    "emptyDictionary[\"a\"] = 10\n",
    "emptyDictionary[\"b\"] = 20"
   ]
  },
  {
   "cell_type": "code",
   "execution_count": 41,
   "id": "4bd54235-7949-4415-a468-021432645b7a",
   "metadata": {},
   "outputs": [
    {
     "data": {
      "text/plain": [
       "{'a': 10, 'b': 20}"
      ]
     },
     "execution_count": 41,
     "metadata": {},
     "output_type": "execute_result"
    }
   ],
   "source": [
    "emptyDictionary"
   ]
  },
  {
   "cell_type": "code",
   "execution_count": null,
   "id": "13bb0007-6ab8-4f05-8660-46b1844b60a8",
   "metadata": {},
   "outputs": [],
   "source": []
  }
 ],
 "metadata": {
  "kernelspec": {
   "display_name": "Python 3 (ipykernel)",
   "language": "python",
   "name": "python3"
  },
  "language_info": {
   "codemirror_mode": {
    "name": "ipython",
    "version": 3
   },
   "file_extension": ".py",
   "mimetype": "text/x-python",
   "name": "python",
   "nbconvert_exporter": "python",
   "pygments_lexer": "ipython3",
   "version": "3.12.4"
  }
 },
 "nbformat": 4,
 "nbformat_minor": 5
}
